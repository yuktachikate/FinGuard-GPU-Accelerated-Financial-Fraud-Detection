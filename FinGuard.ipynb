{
  "cells": [
    {
      "cell_type": "markdown",
      "metadata": {
        "id": "view-in-github",
        "colab_type": "text"
      },
      "source": [
        "<a href=\"https://colab.research.google.com/github/yuktachikate/FinGuard-GPU-Accelerated-Financial-Fraud-Detection/blob/main/FinGuard.ipynb\" target=\"_parent\"><img src=\"https://colab.research.google.com/assets/colab-badge.svg\" alt=\"Open In Colab\"/></a>"
      ]
    },
    {
      "cell_type": "code",
      "execution_count": 33,
      "metadata": {
        "id": "2WlL58vNuSIk",
        "colab": {
          "base_uri": "https://localhost:8080/"
        },
        "outputId": "3c3d0374-a705-4011-f0fb-cf5de37cdd47"
      },
      "outputs": [
        {
          "output_type": "stream",
          "name": "stdout",
          "text": [
            "No GPU found. Please enable GPU runtime in Colab.\n"
          ]
        }
      ],
      "source": [
        "import numpy as np\n",
        "import pandas as pd\n",
        "import matplotlib.pyplot as plt\n",
        "\n",
        "from sklearn.model_selection import train_test_split\n",
        "from sklearn.preprocessing import StandardScaler\n",
        "from sklearn.metrics import classification_report, confusion_matrix, roc_curve, auc\n",
        "\n",
        "import tensorflow as tf\n",
        "from tensorflow.keras.models import Sequential\n",
        "from tensorflow.keras.layers import Dense, Dropout\n",
        "from tensorflow.keras.callbacks import EarlyStopping\n",
        "\n",
        "# Check for GPU availability in Colab (should be enabled for GPU acceleration)\n",
        "device_name = tf.test.gpu_device_name()\n",
        "if device_name:\n",
        "    print(f\"GPU found: {device_name}\")\n",
        "else:\n",
        "    print(\"No GPU found. Please enable GPU runtime in Colab.\")"
      ]
    },
    {
      "cell_type": "markdown",
      "metadata": {
        "id": "sxELfDw3uaDK"
      },
      "source": [
        "This cell imports the essential libraries. We use TensorFlow/Keras for the deep learning model, scikit-learn for preprocessing and evaluation, and Matplotlib for visualization. It also checks for a GPU to ensure that our training is accelerated."
      ]
    },
    {
      "cell_type": "code",
      "execution_count": 34,
      "metadata": {
        "colab": {
          "base_uri": "https://localhost:8080/",
          "height": 308
        },
        "id": "KabirucYuYMR",
        "outputId": "7c8da4fe-3586-4a41-d212-a9b5ec5be3f1"
      },
      "outputs": [
        {
          "output_type": "display_data",
          "data": {
            "text/plain": [
              "<IPython.core.display.HTML object>"
            ],
            "text/html": [
              "\n",
              "     <input type=\"file\" id=\"files-7826e898-4528-4fc4-9de9-aa596cf28780\" name=\"files[]\" multiple disabled\n",
              "        style=\"border:none\" />\n",
              "     <output id=\"result-7826e898-4528-4fc4-9de9-aa596cf28780\">\n",
              "      Upload widget is only available when the cell has been executed in the\n",
              "      current browser session. Please rerun this cell to enable.\n",
              "      </output>\n",
              "      <script>// Copyright 2017 Google LLC\n",
              "//\n",
              "// Licensed under the Apache License, Version 2.0 (the \"License\");\n",
              "// you may not use this file except in compliance with the License.\n",
              "// You may obtain a copy of the License at\n",
              "//\n",
              "//      http://www.apache.org/licenses/LICENSE-2.0\n",
              "//\n",
              "// Unless required by applicable law or agreed to in writing, software\n",
              "// distributed under the License is distributed on an \"AS IS\" BASIS,\n",
              "// WITHOUT WARRANTIES OR CONDITIONS OF ANY KIND, either express or implied.\n",
              "// See the License for the specific language governing permissions and\n",
              "// limitations under the License.\n",
              "\n",
              "/**\n",
              " * @fileoverview Helpers for google.colab Python module.\n",
              " */\n",
              "(function(scope) {\n",
              "function span(text, styleAttributes = {}) {\n",
              "  const element = document.createElement('span');\n",
              "  element.textContent = text;\n",
              "  for (const key of Object.keys(styleAttributes)) {\n",
              "    element.style[key] = styleAttributes[key];\n",
              "  }\n",
              "  return element;\n",
              "}\n",
              "\n",
              "// Max number of bytes which will be uploaded at a time.\n",
              "const MAX_PAYLOAD_SIZE = 100 * 1024;\n",
              "\n",
              "function _uploadFiles(inputId, outputId) {\n",
              "  const steps = uploadFilesStep(inputId, outputId);\n",
              "  const outputElement = document.getElementById(outputId);\n",
              "  // Cache steps on the outputElement to make it available for the next call\n",
              "  // to uploadFilesContinue from Python.\n",
              "  outputElement.steps = steps;\n",
              "\n",
              "  return _uploadFilesContinue(outputId);\n",
              "}\n",
              "\n",
              "// This is roughly an async generator (not supported in the browser yet),\n",
              "// where there are multiple asynchronous steps and the Python side is going\n",
              "// to poll for completion of each step.\n",
              "// This uses a Promise to block the python side on completion of each step,\n",
              "// then passes the result of the previous step as the input to the next step.\n",
              "function _uploadFilesContinue(outputId) {\n",
              "  const outputElement = document.getElementById(outputId);\n",
              "  const steps = outputElement.steps;\n",
              "\n",
              "  const next = steps.next(outputElement.lastPromiseValue);\n",
              "  return Promise.resolve(next.value.promise).then((value) => {\n",
              "    // Cache the last promise value to make it available to the next\n",
              "    // step of the generator.\n",
              "    outputElement.lastPromiseValue = value;\n",
              "    return next.value.response;\n",
              "  });\n",
              "}\n",
              "\n",
              "/**\n",
              " * Generator function which is called between each async step of the upload\n",
              " * process.\n",
              " * @param {string} inputId Element ID of the input file picker element.\n",
              " * @param {string} outputId Element ID of the output display.\n",
              " * @return {!Iterable<!Object>} Iterable of next steps.\n",
              " */\n",
              "function* uploadFilesStep(inputId, outputId) {\n",
              "  const inputElement = document.getElementById(inputId);\n",
              "  inputElement.disabled = false;\n",
              "\n",
              "  const outputElement = document.getElementById(outputId);\n",
              "  outputElement.innerHTML = '';\n",
              "\n",
              "  const pickedPromise = new Promise((resolve) => {\n",
              "    inputElement.addEventListener('change', (e) => {\n",
              "      resolve(e.target.files);\n",
              "    });\n",
              "  });\n",
              "\n",
              "  const cancel = document.createElement('button');\n",
              "  inputElement.parentElement.appendChild(cancel);\n",
              "  cancel.textContent = 'Cancel upload';\n",
              "  const cancelPromise = new Promise((resolve) => {\n",
              "    cancel.onclick = () => {\n",
              "      resolve(null);\n",
              "    };\n",
              "  });\n",
              "\n",
              "  // Wait for the user to pick the files.\n",
              "  const files = yield {\n",
              "    promise: Promise.race([pickedPromise, cancelPromise]),\n",
              "    response: {\n",
              "      action: 'starting',\n",
              "    }\n",
              "  };\n",
              "\n",
              "  cancel.remove();\n",
              "\n",
              "  // Disable the input element since further picks are not allowed.\n",
              "  inputElement.disabled = true;\n",
              "\n",
              "  if (!files) {\n",
              "    return {\n",
              "      response: {\n",
              "        action: 'complete',\n",
              "      }\n",
              "    };\n",
              "  }\n",
              "\n",
              "  for (const file of files) {\n",
              "    const li = document.createElement('li');\n",
              "    li.append(span(file.name, {fontWeight: 'bold'}));\n",
              "    li.append(span(\n",
              "        `(${file.type || 'n/a'}) - ${file.size} bytes, ` +\n",
              "        `last modified: ${\n",
              "            file.lastModifiedDate ? file.lastModifiedDate.toLocaleDateString() :\n",
              "                                    'n/a'} - `));\n",
              "    const percent = span('0% done');\n",
              "    li.appendChild(percent);\n",
              "\n",
              "    outputElement.appendChild(li);\n",
              "\n",
              "    const fileDataPromise = new Promise((resolve) => {\n",
              "      const reader = new FileReader();\n",
              "      reader.onload = (e) => {\n",
              "        resolve(e.target.result);\n",
              "      };\n",
              "      reader.readAsArrayBuffer(file);\n",
              "    });\n",
              "    // Wait for the data to be ready.\n",
              "    let fileData = yield {\n",
              "      promise: fileDataPromise,\n",
              "      response: {\n",
              "        action: 'continue',\n",
              "      }\n",
              "    };\n",
              "\n",
              "    // Use a chunked sending to avoid message size limits. See b/62115660.\n",
              "    let position = 0;\n",
              "    do {\n",
              "      const length = Math.min(fileData.byteLength - position, MAX_PAYLOAD_SIZE);\n",
              "      const chunk = new Uint8Array(fileData, position, length);\n",
              "      position += length;\n",
              "\n",
              "      const base64 = btoa(String.fromCharCode.apply(null, chunk));\n",
              "      yield {\n",
              "        response: {\n",
              "          action: 'append',\n",
              "          file: file.name,\n",
              "          data: base64,\n",
              "        },\n",
              "      };\n",
              "\n",
              "      let percentDone = fileData.byteLength === 0 ?\n",
              "          100 :\n",
              "          Math.round((position / fileData.byteLength) * 100);\n",
              "      percent.textContent = `${percentDone}% done`;\n",
              "\n",
              "    } while (position < fileData.byteLength);\n",
              "  }\n",
              "\n",
              "  // All done.\n",
              "  yield {\n",
              "    response: {\n",
              "      action: 'complete',\n",
              "    }\n",
              "  };\n",
              "}\n",
              "\n",
              "scope.google = scope.google || {};\n",
              "scope.google.colab = scope.google.colab || {};\n",
              "scope.google.colab._files = {\n",
              "  _uploadFiles,\n",
              "  _uploadFilesContinue,\n",
              "};\n",
              "})(self);\n",
              "</script> "
            ]
          },
          "metadata": {}
        },
        {
          "output_type": "stream",
          "name": "stdout",
          "text": [
            "Saving creditcard1.csv to creditcard1 (5).csv\n",
            "Dataset shape: (999, 31)\n"
          ]
        },
        {
          "output_type": "execute_result",
          "data": {
            "text/plain": [
              "   Time        V1        V2        V3        V4        V5        V6        V7  \\\n",
              "0     0 -1.359807 -0.072781  2.536347  1.378155 -0.338321  0.462388  0.239599   \n",
              "1     0  1.191857  0.266151  0.166480  0.448154  0.060018 -0.082361 -0.078803   \n",
              "2     1 -1.358354 -1.340163  1.773209  0.379780 -0.503198  1.800499  0.791461   \n",
              "3     1 -0.966272 -0.185226  1.792993 -0.863291 -0.010309  1.247203  0.237609   \n",
              "4     2 -1.158233  0.877737  1.548718  0.403034 -0.407193  0.095921  0.592941   \n",
              "\n",
              "         V8        V9  ...       V21       V22       V23       V24       V25  \\\n",
              "0  0.098698  0.363787  ... -0.018307  0.277838 -0.110474  0.066928  0.128539   \n",
              "1  0.085102 -0.255425  ... -0.225775 -0.638672  0.101288 -0.339846  0.167170   \n",
              "2  0.247676 -1.514654  ...  0.247998  0.771679  0.909412 -0.689281 -0.327642   \n",
              "3  0.377436 -1.387024  ... -0.108300  0.005274 -0.190321 -1.175575  0.647376   \n",
              "4 -0.270533  0.817739  ... -0.009431  0.798278 -0.137458  0.141267 -0.206010   \n",
              "\n",
              "        V26       V27       V28  Amount  Class  \n",
              "0 -0.189115  0.133558 -0.021053  149.62      0  \n",
              "1  0.125895 -0.008983  0.014724    2.69      0  \n",
              "2 -0.139097 -0.055353 -0.059752  378.66      0  \n",
              "3 -0.221929  0.062723  0.061458  123.50      0  \n",
              "4  0.502292  0.219422  0.215153   69.99      0  \n",
              "\n",
              "[5 rows x 31 columns]"
            ],
            "text/html": [
              "\n",
              "  <div id=\"df-fb82af1c-71d5-4f35-9800-41f52928b523\" class=\"colab-df-container\">\n",
              "    <div>\n",
              "<style scoped>\n",
              "    .dataframe tbody tr th:only-of-type {\n",
              "        vertical-align: middle;\n",
              "    }\n",
              "\n",
              "    .dataframe tbody tr th {\n",
              "        vertical-align: top;\n",
              "    }\n",
              "\n",
              "    .dataframe thead th {\n",
              "        text-align: right;\n",
              "    }\n",
              "</style>\n",
              "<table border=\"1\" class=\"dataframe\">\n",
              "  <thead>\n",
              "    <tr style=\"text-align: right;\">\n",
              "      <th></th>\n",
              "      <th>Time</th>\n",
              "      <th>V1</th>\n",
              "      <th>V2</th>\n",
              "      <th>V3</th>\n",
              "      <th>V4</th>\n",
              "      <th>V5</th>\n",
              "      <th>V6</th>\n",
              "      <th>V7</th>\n",
              "      <th>V8</th>\n",
              "      <th>V9</th>\n",
              "      <th>...</th>\n",
              "      <th>V21</th>\n",
              "      <th>V22</th>\n",
              "      <th>V23</th>\n",
              "      <th>V24</th>\n",
              "      <th>V25</th>\n",
              "      <th>V26</th>\n",
              "      <th>V27</th>\n",
              "      <th>V28</th>\n",
              "      <th>Amount</th>\n",
              "      <th>Class</th>\n",
              "    </tr>\n",
              "  </thead>\n",
              "  <tbody>\n",
              "    <tr>\n",
              "      <th>0</th>\n",
              "      <td>0</td>\n",
              "      <td>-1.359807</td>\n",
              "      <td>-0.072781</td>\n",
              "      <td>2.536347</td>\n",
              "      <td>1.378155</td>\n",
              "      <td>-0.338321</td>\n",
              "      <td>0.462388</td>\n",
              "      <td>0.239599</td>\n",
              "      <td>0.098698</td>\n",
              "      <td>0.363787</td>\n",
              "      <td>...</td>\n",
              "      <td>-0.018307</td>\n",
              "      <td>0.277838</td>\n",
              "      <td>-0.110474</td>\n",
              "      <td>0.066928</td>\n",
              "      <td>0.128539</td>\n",
              "      <td>-0.189115</td>\n",
              "      <td>0.133558</td>\n",
              "      <td>-0.021053</td>\n",
              "      <td>149.62</td>\n",
              "      <td>0</td>\n",
              "    </tr>\n",
              "    <tr>\n",
              "      <th>1</th>\n",
              "      <td>0</td>\n",
              "      <td>1.191857</td>\n",
              "      <td>0.266151</td>\n",
              "      <td>0.166480</td>\n",
              "      <td>0.448154</td>\n",
              "      <td>0.060018</td>\n",
              "      <td>-0.082361</td>\n",
              "      <td>-0.078803</td>\n",
              "      <td>0.085102</td>\n",
              "      <td>-0.255425</td>\n",
              "      <td>...</td>\n",
              "      <td>-0.225775</td>\n",
              "      <td>-0.638672</td>\n",
              "      <td>0.101288</td>\n",
              "      <td>-0.339846</td>\n",
              "      <td>0.167170</td>\n",
              "      <td>0.125895</td>\n",
              "      <td>-0.008983</td>\n",
              "      <td>0.014724</td>\n",
              "      <td>2.69</td>\n",
              "      <td>0</td>\n",
              "    </tr>\n",
              "    <tr>\n",
              "      <th>2</th>\n",
              "      <td>1</td>\n",
              "      <td>-1.358354</td>\n",
              "      <td>-1.340163</td>\n",
              "      <td>1.773209</td>\n",
              "      <td>0.379780</td>\n",
              "      <td>-0.503198</td>\n",
              "      <td>1.800499</td>\n",
              "      <td>0.791461</td>\n",
              "      <td>0.247676</td>\n",
              "      <td>-1.514654</td>\n",
              "      <td>...</td>\n",
              "      <td>0.247998</td>\n",
              "      <td>0.771679</td>\n",
              "      <td>0.909412</td>\n",
              "      <td>-0.689281</td>\n",
              "      <td>-0.327642</td>\n",
              "      <td>-0.139097</td>\n",
              "      <td>-0.055353</td>\n",
              "      <td>-0.059752</td>\n",
              "      <td>378.66</td>\n",
              "      <td>0</td>\n",
              "    </tr>\n",
              "    <tr>\n",
              "      <th>3</th>\n",
              "      <td>1</td>\n",
              "      <td>-0.966272</td>\n",
              "      <td>-0.185226</td>\n",
              "      <td>1.792993</td>\n",
              "      <td>-0.863291</td>\n",
              "      <td>-0.010309</td>\n",
              "      <td>1.247203</td>\n",
              "      <td>0.237609</td>\n",
              "      <td>0.377436</td>\n",
              "      <td>-1.387024</td>\n",
              "      <td>...</td>\n",
              "      <td>-0.108300</td>\n",
              "      <td>0.005274</td>\n",
              "      <td>-0.190321</td>\n",
              "      <td>-1.175575</td>\n",
              "      <td>0.647376</td>\n",
              "      <td>-0.221929</td>\n",
              "      <td>0.062723</td>\n",
              "      <td>0.061458</td>\n",
              "      <td>123.50</td>\n",
              "      <td>0</td>\n",
              "    </tr>\n",
              "    <tr>\n",
              "      <th>4</th>\n",
              "      <td>2</td>\n",
              "      <td>-1.158233</td>\n",
              "      <td>0.877737</td>\n",
              "      <td>1.548718</td>\n",
              "      <td>0.403034</td>\n",
              "      <td>-0.407193</td>\n",
              "      <td>0.095921</td>\n",
              "      <td>0.592941</td>\n",
              "      <td>-0.270533</td>\n",
              "      <td>0.817739</td>\n",
              "      <td>...</td>\n",
              "      <td>-0.009431</td>\n",
              "      <td>0.798278</td>\n",
              "      <td>-0.137458</td>\n",
              "      <td>0.141267</td>\n",
              "      <td>-0.206010</td>\n",
              "      <td>0.502292</td>\n",
              "      <td>0.219422</td>\n",
              "      <td>0.215153</td>\n",
              "      <td>69.99</td>\n",
              "      <td>0</td>\n",
              "    </tr>\n",
              "  </tbody>\n",
              "</table>\n",
              "<p>5 rows × 31 columns</p>\n",
              "</div>\n",
              "    <div class=\"colab-df-buttons\">\n",
              "\n",
              "  <div class=\"colab-df-container\">\n",
              "    <button class=\"colab-df-convert\" onclick=\"convertToInteractive('df-fb82af1c-71d5-4f35-9800-41f52928b523')\"\n",
              "            title=\"Convert this dataframe to an interactive table.\"\n",
              "            style=\"display:none;\">\n",
              "\n",
              "  <svg xmlns=\"http://www.w3.org/2000/svg\" height=\"24px\" viewBox=\"0 -960 960 960\">\n",
              "    <path d=\"M120-120v-720h720v720H120Zm60-500h600v-160H180v160Zm220 220h160v-160H400v160Zm0 220h160v-160H400v160ZM180-400h160v-160H180v160Zm440 0h160v-160H620v160ZM180-180h160v-160H180v160Zm440 0h160v-160H620v160Z\"/>\n",
              "  </svg>\n",
              "    </button>\n",
              "\n",
              "  <style>\n",
              "    .colab-df-container {\n",
              "      display:flex;\n",
              "      gap: 12px;\n",
              "    }\n",
              "\n",
              "    .colab-df-convert {\n",
              "      background-color: #E8F0FE;\n",
              "      border: none;\n",
              "      border-radius: 50%;\n",
              "      cursor: pointer;\n",
              "      display: none;\n",
              "      fill: #1967D2;\n",
              "      height: 32px;\n",
              "      padding: 0 0 0 0;\n",
              "      width: 32px;\n",
              "    }\n",
              "\n",
              "    .colab-df-convert:hover {\n",
              "      background-color: #E2EBFA;\n",
              "      box-shadow: 0px 1px 2px rgba(60, 64, 67, 0.3), 0px 1px 3px 1px rgba(60, 64, 67, 0.15);\n",
              "      fill: #174EA6;\n",
              "    }\n",
              "\n",
              "    .colab-df-buttons div {\n",
              "      margin-bottom: 4px;\n",
              "    }\n",
              "\n",
              "    [theme=dark] .colab-df-convert {\n",
              "      background-color: #3B4455;\n",
              "      fill: #D2E3FC;\n",
              "    }\n",
              "\n",
              "    [theme=dark] .colab-df-convert:hover {\n",
              "      background-color: #434B5C;\n",
              "      box-shadow: 0px 1px 3px 1px rgba(0, 0, 0, 0.15);\n",
              "      filter: drop-shadow(0px 1px 2px rgba(0, 0, 0, 0.3));\n",
              "      fill: #FFFFFF;\n",
              "    }\n",
              "  </style>\n",
              "\n",
              "    <script>\n",
              "      const buttonEl =\n",
              "        document.querySelector('#df-fb82af1c-71d5-4f35-9800-41f52928b523 button.colab-df-convert');\n",
              "      buttonEl.style.display =\n",
              "        google.colab.kernel.accessAllowed ? 'block' : 'none';\n",
              "\n",
              "      async function convertToInteractive(key) {\n",
              "        const element = document.querySelector('#df-fb82af1c-71d5-4f35-9800-41f52928b523');\n",
              "        const dataTable =\n",
              "          await google.colab.kernel.invokeFunction('convertToInteractive',\n",
              "                                                    [key], {});\n",
              "        if (!dataTable) return;\n",
              "\n",
              "        const docLinkHtml = 'Like what you see? Visit the ' +\n",
              "          '<a target=\"_blank\" href=https://colab.research.google.com/notebooks/data_table.ipynb>data table notebook</a>'\n",
              "          + ' to learn more about interactive tables.';\n",
              "        element.innerHTML = '';\n",
              "        dataTable['output_type'] = 'display_data';\n",
              "        await google.colab.output.renderOutput(dataTable, element);\n",
              "        const docLink = document.createElement('div');\n",
              "        docLink.innerHTML = docLinkHtml;\n",
              "        element.appendChild(docLink);\n",
              "      }\n",
              "    </script>\n",
              "  </div>\n",
              "\n",
              "\n",
              "<div id=\"df-b60e36ff-b14e-4d67-9158-689c9a48bbe8\">\n",
              "  <button class=\"colab-df-quickchart\" onclick=\"quickchart('df-b60e36ff-b14e-4d67-9158-689c9a48bbe8')\"\n",
              "            title=\"Suggest charts\"\n",
              "            style=\"display:none;\">\n",
              "\n",
              "<svg xmlns=\"http://www.w3.org/2000/svg\" height=\"24px\"viewBox=\"0 0 24 24\"\n",
              "     width=\"24px\">\n",
              "    <g>\n",
              "        <path d=\"M19 3H5c-1.1 0-2 .9-2 2v14c0 1.1.9 2 2 2h14c1.1 0 2-.9 2-2V5c0-1.1-.9-2-2-2zM9 17H7v-7h2v7zm4 0h-2V7h2v10zm4 0h-2v-4h2v4z\"/>\n",
              "    </g>\n",
              "</svg>\n",
              "  </button>\n",
              "\n",
              "<style>\n",
              "  .colab-df-quickchart {\n",
              "      --bg-color: #E8F0FE;\n",
              "      --fill-color: #1967D2;\n",
              "      --hover-bg-color: #E2EBFA;\n",
              "      --hover-fill-color: #174EA6;\n",
              "      --disabled-fill-color: #AAA;\n",
              "      --disabled-bg-color: #DDD;\n",
              "  }\n",
              "\n",
              "  [theme=dark] .colab-df-quickchart {\n",
              "      --bg-color: #3B4455;\n",
              "      --fill-color: #D2E3FC;\n",
              "      --hover-bg-color: #434B5C;\n",
              "      --hover-fill-color: #FFFFFF;\n",
              "      --disabled-bg-color: #3B4455;\n",
              "      --disabled-fill-color: #666;\n",
              "  }\n",
              "\n",
              "  .colab-df-quickchart {\n",
              "    background-color: var(--bg-color);\n",
              "    border: none;\n",
              "    border-radius: 50%;\n",
              "    cursor: pointer;\n",
              "    display: none;\n",
              "    fill: var(--fill-color);\n",
              "    height: 32px;\n",
              "    padding: 0;\n",
              "    width: 32px;\n",
              "  }\n",
              "\n",
              "  .colab-df-quickchart:hover {\n",
              "    background-color: var(--hover-bg-color);\n",
              "    box-shadow: 0 1px 2px rgba(60, 64, 67, 0.3), 0 1px 3px 1px rgba(60, 64, 67, 0.15);\n",
              "    fill: var(--button-hover-fill-color);\n",
              "  }\n",
              "\n",
              "  .colab-df-quickchart-complete:disabled,\n",
              "  .colab-df-quickchart-complete:disabled:hover {\n",
              "    background-color: var(--disabled-bg-color);\n",
              "    fill: var(--disabled-fill-color);\n",
              "    box-shadow: none;\n",
              "  }\n",
              "\n",
              "  .colab-df-spinner {\n",
              "    border: 2px solid var(--fill-color);\n",
              "    border-color: transparent;\n",
              "    border-bottom-color: var(--fill-color);\n",
              "    animation:\n",
              "      spin 1s steps(1) infinite;\n",
              "  }\n",
              "\n",
              "  @keyframes spin {\n",
              "    0% {\n",
              "      border-color: transparent;\n",
              "      border-bottom-color: var(--fill-color);\n",
              "      border-left-color: var(--fill-color);\n",
              "    }\n",
              "    20% {\n",
              "      border-color: transparent;\n",
              "      border-left-color: var(--fill-color);\n",
              "      border-top-color: var(--fill-color);\n",
              "    }\n",
              "    30% {\n",
              "      border-color: transparent;\n",
              "      border-left-color: var(--fill-color);\n",
              "      border-top-color: var(--fill-color);\n",
              "      border-right-color: var(--fill-color);\n",
              "    }\n",
              "    40% {\n",
              "      border-color: transparent;\n",
              "      border-right-color: var(--fill-color);\n",
              "      border-top-color: var(--fill-color);\n",
              "    }\n",
              "    60% {\n",
              "      border-color: transparent;\n",
              "      border-right-color: var(--fill-color);\n",
              "    }\n",
              "    80% {\n",
              "      border-color: transparent;\n",
              "      border-right-color: var(--fill-color);\n",
              "      border-bottom-color: var(--fill-color);\n",
              "    }\n",
              "    90% {\n",
              "      border-color: transparent;\n",
              "      border-bottom-color: var(--fill-color);\n",
              "    }\n",
              "  }\n",
              "</style>\n",
              "\n",
              "  <script>\n",
              "    async function quickchart(key) {\n",
              "      const quickchartButtonEl =\n",
              "        document.querySelector('#' + key + ' button');\n",
              "      quickchartButtonEl.disabled = true;  // To prevent multiple clicks.\n",
              "      quickchartButtonEl.classList.add('colab-df-spinner');\n",
              "      try {\n",
              "        const charts = await google.colab.kernel.invokeFunction(\n",
              "            'suggestCharts', [key], {});\n",
              "      } catch (error) {\n",
              "        console.error('Error during call to suggestCharts:', error);\n",
              "      }\n",
              "      quickchartButtonEl.classList.remove('colab-df-spinner');\n",
              "      quickchartButtonEl.classList.add('colab-df-quickchart-complete');\n",
              "    }\n",
              "    (() => {\n",
              "      let quickchartButtonEl =\n",
              "        document.querySelector('#df-b60e36ff-b14e-4d67-9158-689c9a48bbe8 button');\n",
              "      quickchartButtonEl.style.display =\n",
              "        google.colab.kernel.accessAllowed ? 'block' : 'none';\n",
              "    })();\n",
              "  </script>\n",
              "</div>\n",
              "\n",
              "    </div>\n",
              "  </div>\n"
            ],
            "application/vnd.google.colaboratory.intrinsic+json": {
              "type": "dataframe",
              "variable_name": "df"
            }
          },
          "metadata": {},
          "execution_count": 34
        }
      ],
      "source": [
        "# Data Acquisition & Loading\n",
        "# ===============================\n",
        "# For this example, we use the Credit Card Fraud Detection dataset.\n",
        "# Download the dataset from:\n",
        "# https://www.kaggle.com/mlg-ulb/creditcardfraud\n",
        "# After downloading, upload the CSV file into your Google Colab session.\n",
        "\n",
        "from google.colab import files\n",
        "uploaded = files.upload()  # Upload the 'creditcard.csv' file when prompted.\n",
        "\n",
        "# Load the dataset into a pandas DataFrame\n",
        "df = pd.read_csv('creditcard1.csv')\n",
        "print(\"Dataset shape:\", df.shape)\n",
        "df.head()"
      ]
    },
    {
      "cell_type": "markdown",
      "metadata": {
        "id": "HObHvMwtu8Rv"
      },
      "source": [
        "In this cell, you upload the dataset (creditcard.csv). This dataset contains transactions labeled as fraudulent or legitimate. Once uploaded, the file is read into a DataFrame and a preview is displayed."
      ]
    },
    {
      "cell_type": "code",
      "execution_count": 35,
      "metadata": {
        "id": "X1Bbpxhqujy-",
        "colab": {
          "base_uri": "https://localhost:8080/",
          "height": 1000
        },
        "outputId": "47d1e12f-2e40-4ae4-ec31-fb2535ae36a5"
      },
      "outputs": [
        {
          "output_type": "stream",
          "name": "stdout",
          "text": [
            "<class 'pandas.core.frame.DataFrame'>\n",
            "RangeIndex: 999 entries, 0 to 998\n",
            "Data columns (total 31 columns):\n",
            " #   Column  Non-Null Count  Dtype  \n",
            "---  ------  --------------  -----  \n",
            " 0   Time    999 non-null    int64  \n",
            " 1   V1      999 non-null    float64\n",
            " 2   V2      999 non-null    float64\n",
            " 3   V3      999 non-null    float64\n",
            " 4   V4      999 non-null    float64\n",
            " 5   V5      999 non-null    float64\n",
            " 6   V6      999 non-null    float64\n",
            " 7   V7      999 non-null    float64\n",
            " 8   V8      999 non-null    float64\n",
            " 9   V9      999 non-null    float64\n",
            " 10  V10     999 non-null    float64\n",
            " 11  V11     999 non-null    float64\n",
            " 12  V12     999 non-null    float64\n",
            " 13  V13     999 non-null    float64\n",
            " 14  V14     999 non-null    float64\n",
            " 15  V15     999 non-null    float64\n",
            " 16  V16     999 non-null    float64\n",
            " 17  V17     999 non-null    float64\n",
            " 18  V18     999 non-null    float64\n",
            " 19  V19     999 non-null    float64\n",
            " 20  V20     999 non-null    float64\n",
            " 21  V21     999 non-null    float64\n",
            " 22  V22     999 non-null    float64\n",
            " 23  V23     999 non-null    float64\n",
            " 24  V24     999 non-null    float64\n",
            " 25  V25     999 non-null    float64\n",
            " 26  V26     999 non-null    float64\n",
            " 27  V27     999 non-null    float64\n",
            " 28  V28     999 non-null    float64\n",
            " 29  Amount  999 non-null    float64\n",
            " 30  Class   999 non-null    int64  \n",
            "dtypes: float64(29), int64(2)\n",
            "memory usage: 242.1 KB\n",
            "None\n",
            "              Time          V1          V2          V3          V4  \\\n",
            "count   999.000000  999.000000  999.000000  999.000000  999.000000   \n",
            "mean    937.171171   -0.341704    0.251642    0.804211    0.099311   \n",
            "std     425.603212    1.392576    1.113000    1.041078    1.285350   \n",
            "min       0.000000  -11.140706   -9.612726  -12.389545   -4.515824   \n",
            "25%     848.000000   -1.161284   -0.274682    0.184456   -0.735814   \n",
            "50%    1051.000000   -0.470204    0.277666    0.828613    0.143886   \n",
            "75%    1244.500000    1.057246    0.920455    1.468994    1.004631   \n",
            "max    1431.000000    1.553492    6.118940    3.770236    6.013346   \n",
            "\n",
            "               V5          V6          V7          V8          V9  ...  \\\n",
            "count  999.000000  999.000000  999.000000  999.000000  999.000000  ...   \n",
            "mean    -0.095347    0.034307    0.189987   -0.061762    0.009831  ...   \n",
            "std      1.488097    1.364844    1.386492    1.039131    0.893940  ...   \n",
            "min    -32.092129   -3.435023   -4.533102  -12.258158   -3.110515  ...   \n",
            "25%     -0.575309   -0.687590   -0.241535   -0.175937   -0.463602  ...   \n",
            "50%     -0.123343   -0.199546    0.152464    0.045110   -0.038416  ...   \n",
            "75%      0.356873    0.366391    0.589208    0.296377    0.435451  ...   \n",
            "max      5.369382   21.393069   34.303177    2.602801    6.450992  ...   \n",
            "\n",
            "              V21         V22         V23         V24         V25         V26  \\\n",
            "count  999.000000  999.000000  999.000000  999.000000  999.000000  999.000000   \n",
            "mean    -0.021813   -0.118301   -0.044482    0.025948    0.113335    0.055940   \n",
            "std      0.658311    0.577352    0.363248    0.596418    0.399846    0.456151   \n",
            "min     -4.709977   -2.776923   -4.020300   -2.162523   -1.577384   -1.243924   \n",
            "25%     -0.226370   -0.531059   -0.184484   -0.345569   -0.136853   -0.268183   \n",
            "50%     -0.076663   -0.123739   -0.066835    0.101214    0.128743    0.026447   \n",
            "75%      0.094342    0.272794    0.060507    0.439148    0.378430    0.315454   \n",
            "max      6.765928    1.957759    4.095021    1.112970    1.629684    3.463246   \n",
            "\n",
            "              V27         V28       Amount  Class  \n",
            "count  999.000000  999.000000   999.000000  999.0  \n",
            "mean     0.034020    0.004975    75.783684    0.0  \n",
            "std      0.388594    0.276957   290.579347    0.0  \n",
            "min     -4.541860   -1.962241     0.000000    0.0  \n",
            "25%     -0.056538   -0.027950     4.980000    0.0  \n",
            "50%      0.022302    0.022413    17.280000    0.0  \n",
            "75%      0.145785    0.088931    75.650000    0.0  \n",
            "max      3.852046    4.157934  7712.430000    0.0  \n",
            "\n",
            "[8 rows x 31 columns]\n",
            "Class distribution:\n",
            "Class\n",
            "0    999\n",
            "Name: count, dtype: int64\n"
          ]
        },
        {
          "output_type": "display_data",
          "data": {
            "text/plain": [
              "<Figure size 800x400 with 1 Axes>"
            ],
            "image/png": "[encoded data removed]"
          },
          "metadata": {}
        }
      ],
      "source": [
        "\n",
        "# Exploratory Data Analysis (EDA)\n",
        "# ===============================\n",
        "print(df.info())\n",
        "print(df.describe())\n",
        "\n",
        "# Check class imbalance\n",
        "print(\"Class distribution:\")\n",
        "print(df['Class'].value_counts())\n",
        "\n",
        "# Plotting the distribution of the 'Amount' feature\n",
        "plt.figure(figsize=(8,4))\n",
        "plt.hist(df['Amount'], bins=50, color='skyblue', edgecolor='black')\n",
        "plt.title('Transaction Amount Distribution')\n",
        "plt.xlabel('Amount')\n",
        "plt.ylabel('Frequency')\n",
        "plt.show()\n"
      ]
    },
    {
      "cell_type": "markdown",
      "metadata": {
        "id": "qwi2iQhVvB_t"
      },
      "source": [
        "This cell performs basic EDA. We inspect data types, summary statistics, and look at the distribution of the 'Amount' feature. The imbalance in classes (fraud vs. non-fraud) is crucial since fraud cases are very rare."
      ]
    },
    {
      "cell_type": "code",
      "execution_count": 36,
      "metadata": {
        "id": "4RrAW6A7vCsA",
        "colab": {
          "base_uri": "https://localhost:8080/"
        },
        "outputId": "2e84a8dd-f095-49bb-e7c1-9f634a09228e"
      },
      "outputs": [
        {
          "output_type": "stream",
          "name": "stdout",
          "text": [
            "Training set shape: (799, 29)\n",
            "Test set shape: (200, 29)\n"
          ]
        }
      ],
      "source": [
        "# Data Preprocessing\n",
        "# ===============================\n",
        "# Separate features and target\n",
        "X = df.drop(['Class', 'Time'], axis=1)  # Dropping 'Time' since it may not be relevant\n",
        "y = df['Class']\n",
        "\n",
        "# Standardize features (except for 'Amount', which we include here for simplicity)\n",
        "scaler = StandardScaler()\n",
        "X_scaled = scaler.fit_transform(X)\n",
        "\n",
        "# Split the dataset (stratify to maintain class imbalance in both sets)\n",
        "X_train, X_test, y_train, y_test = train_test_split(\n",
        "    X_scaled, y, test_size=0.2, random_state=42, stratify=y)\n",
        "\n",
        "print(\"Training set shape:\", X_train.shape)\n",
        "print(\"Test set shape:\", X_test.shape)"
      ]
    },
    {
      "cell_type": "markdown",
      "metadata": {
        "id": "tSiV6SlhvNRS"
      },
      "source": [
        "We preprocess the data by standardizing features and splitting into training and test sets. Stratified splitting ensures that both sets maintain the same proportion of fraud cases as in the full dataset."
      ]
    },
    {
      "cell_type": "code",
      "execution_count": 9,
      "metadata": {
        "id": "-ldDxjkBvPR0",
        "colab": {
          "base_uri": "https://localhost:8080/",
          "height": 371
        },
        "outputId": "9002c108-d164-45f0-b77f-de311f73039f"
      },
      "outputs": [
        {
          "output_type": "stream",
          "name": "stderr",
          "text": [
            "/usr/local/lib/python3.11/dist-packages/keras/src/layers/core/dense.py:87: UserWarning: Do not pass an `input_shape`/`input_dim` argument to a layer. When using Sequential models, prefer using an `Input(shape)` object as the first layer in the model instead.\n",
            "  super().__init__(activity_regularizer=activity_regularizer, **kwargs)\n"
          ]
        },
        {
          "output_type": "display_data",
          "data": {
            "text/plain": [
              "\u001b[1mModel: \"sequential\"\u001b[0m\n"
            ],
            "text/html": [
              "<pre style=\"white-space:pre;overflow-x:auto;line-height:normal;font-family:Menlo,'DejaVu Sans Mono',consolas,'Courier New',monospace\"><span style=\"font-weight: bold\">Model: \"sequential\"</span>\n",
              "</pre>\n"
            ]
          },
          "metadata": {}
        },
        {
          "output_type": "display_data",
          "data": {
            "text/plain": [
              "┏━━━━━━━━━━━━━━━━━━━━━━━━━━━━━━━━━━━━━━┳━━━━━━━━━━━━━━━━━━━━━━━━━━━━━┳━━━━━━━━━━━━━━━━━┓\n",
              "┃\u001b[1m \u001b[0m\u001b[1mLayer (type)                        \u001b[0m\u001b[1m \u001b[0m┃\u001b[1m \u001b[0m\u001b[1mOutput Shape               \u001b[0m\u001b[1m \u001b[0m┃\u001b[1m \u001b[0m\u001b[1m        Param #\u001b[0m\u001b[1m \u001b[0m┃\n",
              "┡━━━━━━━━━━━━━━━━━━━━━━━━━━━━━━━━━━━━━━╇━━━━━━━━━━━━━━━━━━━━━━━━━━━━━╇━━━━━━━━━━━━━━━━━┩\n",
              "│ dense (\u001b[38;5;33mDense\u001b[0m)                        │ (\u001b[38;5;45mNone\u001b[0m, \u001b[38;5;34m32\u001b[0m)                  │             \u001b[38;5;34m960\u001b[0m │\n",
              "├──────────────────────────────────────┼─────────────────────────────┼─────────────────┤\n",
              "│ dropout (\u001b[38;5;33mDropout\u001b[0m)                    │ (\u001b[38;5;45mNone\u001b[0m, \u001b[38;5;34m32\u001b[0m)                  │               \u001b[38;5;34m0\u001b[0m │\n",
              "├──────────────────────────────────────┼─────────────────────────────┼─────────────────┤\n",
              "│ dense_1 (\u001b[38;5;33mDense\u001b[0m)                      │ (\u001b[38;5;45mNone\u001b[0m, \u001b[38;5;34m16\u001b[0m)                  │             \u001b[38;5;34m528\u001b[0m │\n",
              "├──────────────────────────────────────┼─────────────────────────────┼─────────────────┤\n",
              "│ dropout_1 (\u001b[38;5;33mDropout\u001b[0m)                  │ (\u001b[38;5;45mNone\u001b[0m, \u001b[38;5;34m16\u001b[0m)                  │               \u001b[38;5;34m0\u001b[0m │\n",
              "├──────────────────────────────────────┼─────────────────────────────┼─────────────────┤\n",
              "│ dense_2 (\u001b[38;5;33mDense\u001b[0m)                      │ (\u001b[38;5;45mNone\u001b[0m, \u001b[38;5;34m8\u001b[0m)                   │             \u001b[38;5;34m136\u001b[0m │\n",
              "├──────────────────────────────────────┼─────────────────────────────┼─────────────────┤\n",
              "│ dense_3 (\u001b[38;5;33mDense\u001b[0m)                      │ (\u001b[38;5;45mNone\u001b[0m, \u001b[38;5;34m1\u001b[0m)                   │               \u001b[38;5;34m9\u001b[0m │\n",
              "└──────────────────────────────────────┴─────────────────────────────┴─────────────────┘\n"
            ],
            "text/html": [
              "<pre style=\"white-space:pre;overflow-x:auto;line-height:normal;font-family:Menlo,'DejaVu Sans Mono',consolas,'Courier New',monospace\">┏━━━━━━━━━━━━━━━━━━━━━━━━━━━━━━━━━━━━━━┳━━━━━━━━━━━━━━━━━━━━━━━━━━━━━┳━━━━━━━━━━━━━━━━━┓\n",
              "┃<span style=\"font-weight: bold\"> Layer (type)                         </span>┃<span style=\"font-weight: bold\"> Output Shape                </span>┃<span style=\"font-weight: bold\">         Param # </span>┃\n",
              "┡━━━━━━━━━━━━━━━━━━━━━━━━━━━━━━━━━━━━━━╇━━━━━━━━━━━━━━━━━━━━━━━━━━━━━╇━━━━━━━━━━━━━━━━━┩\n",
              "│ dense (<span style=\"color: #0087ff; text-decoration-color: #0087ff\">Dense</span>)                        │ (<span style=\"color: #00d7ff; text-decoration-color: #00d7ff\">None</span>, <span style=\"color: #00af00; text-decoration-color: #00af00\">32</span>)                  │             <span style=\"color: #00af00; text-decoration-color: #00af00\">960</span> │\n",
              "├──────────────────────────────────────┼─────────────────────────────┼─────────────────┤\n",
              "│ dropout (<span style=\"color: #0087ff; text-decoration-color: #0087ff\">Dropout</span>)                    │ (<span style=\"color: #00d7ff; text-decoration-color: #00d7ff\">None</span>, <span style=\"color: #00af00; text-decoration-color: #00af00\">32</span>)                  │               <span style=\"color: #00af00; text-decoration-color: #00af00\">0</span> │\n",
              "├──────────────────────────────────────┼─────────────────────────────┼─────────────────┤\n",
              "│ dense_1 (<span style=\"color: #0087ff; text-decoration-color: #0087ff\">Dense</span>)                      │ (<span style=\"color: #00d7ff; text-decoration-color: #00d7ff\">None</span>, <span style=\"color: #00af00; text-decoration-color: #00af00\">16</span>)                  │             <span style=\"color: #00af00; text-decoration-color: #00af00\">528</span> │\n",
              "├──────────────────────────────────────┼─────────────────────────────┼─────────────────┤\n",
              "│ dropout_1 (<span style=\"color: #0087ff; text-decoration-color: #0087ff\">Dropout</span>)                  │ (<span style=\"color: #00d7ff; text-decoration-color: #00d7ff\">None</span>, <span style=\"color: #00af00; text-decoration-color: #00af00\">16</span>)                  │               <span style=\"color: #00af00; text-decoration-color: #00af00\">0</span> │\n",
              "├──────────────────────────────────────┼─────────────────────────────┼─────────────────┤\n",
              "│ dense_2 (<span style=\"color: #0087ff; text-decoration-color: #0087ff\">Dense</span>)                      │ (<span style=\"color: #00d7ff; text-decoration-color: #00d7ff\">None</span>, <span style=\"color: #00af00; text-decoration-color: #00af00\">8</span>)                   │             <span style=\"color: #00af00; text-decoration-color: #00af00\">136</span> │\n",
              "├──────────────────────────────────────┼─────────────────────────────┼─────────────────┤\n",
              "│ dense_3 (<span style=\"color: #0087ff; text-decoration-color: #0087ff\">Dense</span>)                      │ (<span style=\"color: #00d7ff; text-decoration-color: #00d7ff\">None</span>, <span style=\"color: #00af00; text-decoration-color: #00af00\">1</span>)                   │               <span style=\"color: #00af00; text-decoration-color: #00af00\">9</span> │\n",
              "└──────────────────────────────────────┴─────────────────────────────┴─────────────────┘\n",
              "</pre>\n"
            ]
          },
          "metadata": {}
        },
        {
          "output_type": "display_data",
          "data": {
            "text/plain": [
              "\u001b[1m Total params: \u001b[0m\u001b[38;5;34m1,633\u001b[0m (6.38 KB)\n"
            ],
            "text/html": [
              "<pre style=\"white-space:pre;overflow-x:auto;line-height:normal;font-family:Menlo,'DejaVu Sans Mono',consolas,'Courier New',monospace\"><span style=\"font-weight: bold\"> Total params: </span><span style=\"color: #00af00; text-decoration-color: #00af00\">1,633</span> (6.38 KB)\n",
              "</pre>\n"
            ]
          },
          "metadata": {}
        },
        {
          "output_type": "display_data",
          "data": {
            "text/plain": [
              "\u001b[1m Trainable params: \u001b[0m\u001b[38;5;34m1,633\u001b[0m (6.38 KB)\n"
            ],
            "text/html": [
              "<pre style=\"white-space:pre;overflow-x:auto;line-height:normal;font-family:Menlo,'DejaVu Sans Mono',consolas,'Courier New',monospace\"><span style=\"font-weight: bold\"> Trainable params: </span><span style=\"color: #00af00; text-decoration-color: #00af00\">1,633</span> (6.38 KB)\n",
              "</pre>\n"
            ]
          },
          "metadata": {}
        },
        {
          "output_type": "display_data",
          "data": {
            "text/plain": [
              "\u001b[1m Non-trainable params: \u001b[0m\u001b[38;5;34m0\u001b[0m (0.00 B)\n"
            ],
            "text/html": [
              "<pre style=\"white-space:pre;overflow-x:auto;line-height:normal;font-family:Menlo,'DejaVu Sans Mono',consolas,'Courier New',monospace\"><span style=\"font-weight: bold\"> Non-trainable params: </span><span style=\"color: #00af00; text-decoration-color: #00af00\">0</span> (0.00 B)\n",
              "</pre>\n"
            ]
          },
          "metadata": {}
        }
      ],
      "source": [
        "# Building the Deep Neural Network Model\n",
        "# ===============================\n",
        "# Construct a sequential neural network\n",
        "model = Sequential([\n",
        "    Dense(32, activation='relu', input_shape=(X_train.shape[1],)),\n",
        "    Dropout(0.2),\n",
        "    Dense(16, activation='relu'),\n",
        "    Dropout(0.2),\n",
        "    Dense(8, activation='relu'),\n",
        "    Dense(1, activation='sigmoid')  # Sigmoid activation for binary classification\n",
        "])\n",
        "\n",
        "model.compile(optimizer='adam', loss='binary_crossentropy', metrics=['accuracy'])\n",
        "model.summary()"
      ]
    },
    {
      "cell_type": "markdown",
      "metadata": {
        "id": "plua3a46vXNg"
      },
      "source": [
        "Here we define a deep neural network with multiple dense layers and dropout to prevent overfitting. The final layer uses a sigmoid function because we are performing binary classification (fraud vs. non-fraud)."
      ]
    },
    {
      "cell_type": "code",
      "execution_count": 10,
      "metadata": {
        "id": "ph6ooAEGvUvc",
        "colab": {
          "base_uri": "https://localhost:8080/"
        },
        "outputId": "04a808cf-3fee-41c9-85dc-4bb81ba69771"
      },
      "outputs": [
        {
          "output_type": "stream",
          "name": "stdout",
          "text": [
            "Epoch 1/50\n",
            "1/1 - 6s - 6s/step - accuracy: 0.1205 - loss: 1.1648 - val_accuracy: 0.1000 - val_loss: 1.0784\n",
            "Epoch 2/50\n",
            "1/1 - 1s - 1s/step - accuracy: 0.1393 - loss: 1.0881 - val_accuracy: 0.1312 - val_loss: 1.0499\n",
            "Epoch 3/50\n",
            "1/1 - 0s - 368ms/step - accuracy: 0.1487 - loss: 1.0680 - val_accuracy: 0.1437 - val_loss: 1.0222\n",
            "Epoch 4/50\n",
            "1/1 - 1s - 563ms/step - accuracy: 0.1909 - loss: 1.0483 - val_accuracy: 0.1437 - val_loss: 0.9951\n",
            "Epoch 5/50\n",
            "1/1 - 0s - 371ms/step - accuracy: 0.2019 - loss: 1.0261 - val_accuracy: 0.1562 - val_loss: 0.9686\n",
            "Epoch 6/50\n",
            "1/1 - 0s - 163ms/step - accuracy: 0.2160 - loss: 0.9899 - val_accuracy: 0.2000 - val_loss: 0.9427\n",
            "Epoch 7/50\n",
            "1/1 - 0s - 102ms/step - accuracy: 0.2504 - loss: 0.9713 - val_accuracy: 0.2125 - val_loss: 0.9172\n",
            "Epoch 8/50\n",
            "1/1 - 0s - 109ms/step - accuracy: 0.2473 - loss: 0.9238 - val_accuracy: 0.2250 - val_loss: 0.8924\n",
            "Epoch 9/50\n",
            "1/1 - 0s - 104ms/step - accuracy: 0.2441 - loss: 0.9232 - val_accuracy: 0.2500 - val_loss: 0.8684\n",
            "Epoch 10/50\n",
            "1/1 - 0s - 176ms/step - accuracy: 0.3020 - loss: 0.8827 - val_accuracy: 0.2750 - val_loss: 0.8452\n",
            "Epoch 11/50\n",
            "1/1 - 0s - 98ms/step - accuracy: 0.3224 - loss: 0.8753 - val_accuracy: 0.3125 - val_loss: 0.8225\n",
            "Epoch 12/50\n",
            "1/1 - 0s - 133ms/step - accuracy: 0.3599 - loss: 0.8481 - val_accuracy: 0.3375 - val_loss: 0.8004\n",
            "Epoch 13/50\n",
            "1/1 - 0s - 110ms/step - accuracy: 0.3772 - loss: 0.8174 - val_accuracy: 0.3938 - val_loss: 0.7790\n",
            "Epoch 14/50\n",
            "1/1 - 0s - 134ms/step - accuracy: 0.4131 - loss: 0.7909 - val_accuracy: 0.4375 - val_loss: 0.7584\n",
            "Epoch 15/50\n",
            "1/1 - 0s - 102ms/step - accuracy: 0.4272 - loss: 0.7871 - val_accuracy: 0.4750 - val_loss: 0.7387\n",
            "Epoch 16/50\n",
            "1/1 - 0s - 107ms/step - accuracy: 0.4617 - loss: 0.7773 - val_accuracy: 0.5312 - val_loss: 0.7195\n",
            "Epoch 17/50\n",
            "1/1 - 0s - 138ms/step - accuracy: 0.4710 - loss: 0.7520 - val_accuracy: 0.5562 - val_loss: 0.7008\n",
            "Epoch 18/50\n",
            "1/1 - 0s - 105ms/step - accuracy: 0.5290 - loss: 0.7209 - val_accuracy: 0.5875 - val_loss: 0.6829\n",
            "Epoch 19/50\n",
            "1/1 - 0s - 97ms/step - accuracy: 0.5399 - loss: 0.7113 - val_accuracy: 0.6187 - val_loss: 0.6655\n",
            "Epoch 20/50\n",
            "1/1 - 0s - 177ms/step - accuracy: 0.5556 - loss: 0.6931 - val_accuracy: 0.6250 - val_loss: 0.6488\n",
            "Epoch 21/50\n",
            "1/1 - 0s - 110ms/step - accuracy: 0.6119 - loss: 0.6673 - val_accuracy: 0.6625 - val_loss: 0.6326\n",
            "Epoch 22/50\n",
            "1/1 - 0s - 105ms/step - accuracy: 0.6228 - loss: 0.6554 - val_accuracy: 0.7125 - val_loss: 0.6171\n",
            "Epoch 23/50\n",
            "1/1 - 0s - 137ms/step - accuracy: 0.6620 - loss: 0.6518 - val_accuracy: 0.7312 - val_loss: 0.6023\n",
            "Epoch 24/50\n",
            "1/1 - 0s - 138ms/step - accuracy: 0.6854 - loss: 0.6182 - val_accuracy: 0.7688 - val_loss: 0.5884\n",
            "Epoch 25/50\n",
            "1/1 - 0s - 146ms/step - accuracy: 0.7246 - loss: 0.6041 - val_accuracy: 0.7812 - val_loss: 0.5752\n",
            "Epoch 26/50\n",
            "1/1 - 0s - 103ms/step - accuracy: 0.7465 - loss: 0.6006 - val_accuracy: 0.8188 - val_loss: 0.5625\n",
            "Epoch 27/50\n",
            "1/1 - 0s - 102ms/step - accuracy: 0.7715 - loss: 0.5907 - val_accuracy: 0.8438 - val_loss: 0.5502\n",
            "Epoch 28/50\n",
            "1/1 - 0s - 154ms/step - accuracy: 0.7700 - loss: 0.5859 - val_accuracy: 0.8875 - val_loss: 0.5385\n",
            "Epoch 29/50\n",
            "1/1 - 0s - 100ms/step - accuracy: 0.8028 - loss: 0.5663 - val_accuracy: 0.8938 - val_loss: 0.5273\n",
            "Epoch 30/50\n",
            "1/1 - 0s - 140ms/step - accuracy: 0.8294 - loss: 0.5559 - val_accuracy: 0.9187 - val_loss: 0.5166\n",
            "Epoch 31/50\n",
            "1/1 - 0s - 141ms/step - accuracy: 0.8482 - loss: 0.5293 - val_accuracy: 0.9375 - val_loss: 0.5062\n",
            "Epoch 32/50\n",
            "1/1 - 0s - 101ms/step - accuracy: 0.8638 - loss: 0.5277 - val_accuracy: 0.9438 - val_loss: 0.4960\n",
            "Epoch 33/50\n",
            "1/1 - 0s - 178ms/step - accuracy: 0.8670 - loss: 0.5065 - val_accuracy: 0.9438 - val_loss: 0.4861\n",
            "Epoch 34/50\n",
            "1/1 - 0s - 309ms/step - accuracy: 0.8732 - loss: 0.5061 - val_accuracy: 0.9500 - val_loss: 0.4765\n",
            "Epoch 35/50\n",
            "1/1 - 0s - 250ms/step - accuracy: 0.9014 - loss: 0.4904 - val_accuracy: 0.9500 - val_loss: 0.4672\n",
            "Epoch 36/50\n",
            "1/1 - 0s - 104ms/step - accuracy: 0.9061 - loss: 0.4891 - val_accuracy: 0.9500 - val_loss: 0.4580\n",
            "Epoch 37/50\n",
            "1/1 - 0s - 103ms/step - accuracy: 0.9186 - loss: 0.4809 - val_accuracy: 0.9625 - val_loss: 0.4490\n",
            "Epoch 38/50\n",
            "1/1 - 0s - 103ms/step - accuracy: 0.9374 - loss: 0.4620 - val_accuracy: 0.9688 - val_loss: 0.4403\n",
            "Epoch 39/50\n",
            "1/1 - 0s - 105ms/step - accuracy: 0.9358 - loss: 0.4513 - val_accuracy: 0.9750 - val_loss: 0.4316\n",
            "Epoch 40/50\n",
            "1/1 - 0s - 100ms/step - accuracy: 0.9311 - loss: 0.4444 - val_accuracy: 0.9812 - val_loss: 0.4232\n",
            "Epoch 41/50\n",
            "1/1 - 0s - 169ms/step - accuracy: 0.9562 - loss: 0.4356 - val_accuracy: 0.9812 - val_loss: 0.4150\n",
            "Epoch 42/50\n",
            "1/1 - 0s - 112ms/step - accuracy: 0.9484 - loss: 0.4308 - val_accuracy: 0.9812 - val_loss: 0.4069\n",
            "Epoch 43/50\n",
            "1/1 - 0s - 102ms/step - accuracy: 0.9624 - loss: 0.4207 - val_accuracy: 0.9812 - val_loss: 0.3987\n",
            "Epoch 44/50\n",
            "1/1 - 0s - 143ms/step - accuracy: 0.9562 - loss: 0.4078 - val_accuracy: 0.9812 - val_loss: 0.3907\n",
            "Epoch 45/50\n",
            "1/1 - 0s - 108ms/step - accuracy: 0.9640 - loss: 0.4045 - val_accuracy: 0.9937 - val_loss: 0.3826\n",
            "Epoch 46/50\n",
            "1/1 - 0s - 138ms/step - accuracy: 0.9781 - loss: 0.3937 - val_accuracy: 0.9937 - val_loss: 0.3746\n",
            "Epoch 47/50\n",
            "1/1 - 0s - 107ms/step - accuracy: 0.9812 - loss: 0.3885 - val_accuracy: 0.9937 - val_loss: 0.3665\n",
            "Epoch 48/50\n",
            "1/1 - 0s - 148ms/step - accuracy: 0.9828 - loss: 0.3699 - val_accuracy: 0.9937 - val_loss: 0.3585\n",
            "Epoch 49/50\n",
            "1/1 - 0s - 116ms/step - accuracy: 0.9859 - loss: 0.3661 - val_accuracy: 1.0000 - val_loss: 0.3506\n",
            "Epoch 50/50\n",
            "1/1 - 0s - 117ms/step - accuracy: 0.9765 - loss: 0.3593 - val_accuracy: 1.0000 - val_loss: 0.3426\n"
          ]
        }
      ],
      "source": [
        "# Training the Model\n",
        "# ===============================\n",
        "# Use early stopping to halt training when validation performance stops improving\n",
        "early_stop = EarlyStopping(monitor='val_loss', patience=5, restore_best_weights=True)\n",
        "\n",
        "history = model.fit(\n",
        "    X_train, y_train,\n",
        "    epochs=50,\n",
        "    batch_size=2048,\n",
        "    validation_split=0.2,\n",
        "    callbacks=[early_stop],\n",
        "    verbose=2\n",
        ")"
      ]
    },
    {
      "cell_type": "markdown",
      "metadata": {
        "id": "zsWE3TwivcV8"
      },
      "source": [
        "The model is trained using early stopping to avoid overfitting. Training progress (loss and accuracy) is logged, and the best model weights are restored automatically."
      ]
    },
    {
      "cell_type": "code",
      "execution_count": 11,
      "metadata": {
        "id": "FcKtDoCeveMN",
        "colab": {
          "base_uri": "https://localhost:8080/"
        },
        "outputId": "09c03a19-e4e7-4b27-a840-8c1657d28ffc"
      },
      "outputs": [
        {
          "output_type": "stream",
          "name": "stdout",
          "text": [
            "Test Loss: 0.3332, Test Accuracy: 1.0000\n",
            "\u001b[1m7/7\u001b[0m \u001b[32m━━━━━━━━━━━━━━━━━━━━\u001b[0m\u001b[37m\u001b[0m \u001b[1m0s\u001b[0m 11ms/step\n",
            "Classification Report:\n",
            "              precision    recall  f1-score   support\n",
            "\n",
            "           0       1.00      1.00      1.00       200\n",
            "\n",
            "    accuracy                           1.00       200\n",
            "   macro avg       1.00      1.00      1.00       200\n",
            "weighted avg       1.00      1.00      1.00       200\n",
            "\n",
            "Confusion Matrix:\n",
            "[[200]]\n"
          ]
        },
        {
          "output_type": "stream",
          "name": "stderr",
          "text": [
            "/usr/local/lib/python3.11/dist-packages/sklearn/metrics/_classification.py:407: UserWarning: A single label was found in 'y_true' and 'y_pred'. For the confusion matrix to have the correct shape, use the 'labels' parameter to pass all known labels.\n",
            "  warnings.warn(\n"
          ]
        }
      ],
      "source": [
        "# Model Evaluation\n",
        "# ===============================\n",
        "# Evaluate the model on the test set\n",
        "test_loss, test_accuracy = model.evaluate(X_test, y_test, verbose=0)\n",
        "print(f\"Test Loss: {test_loss:.4f}, Test Accuracy: {test_accuracy:.4f}\")\n",
        "\n",
        "# Generate predictions for the test set\n",
        "y_pred_prob = model.predict(X_test)\n",
        "y_pred = (y_pred_prob > 0.5).astype(int)\n",
        "\n",
        "# Classification report\n",
        "print(\"Classification Report:\")\n",
        "print(classification_report(y_test, y_pred))\n",
        "\n",
        "# Confusion matrix\n",
        "cm = confusion_matrix(y_test, y_pred)\n",
        "print(\"Confusion Matrix:\")\n",
        "print(cm)"
      ]
    },
    {
      "cell_type": "markdown",
      "metadata": {
        "id": "mHKp_1DUvhFs"
      },
      "source": [
        "In this cell, the trained model is evaluated on the unseen test set. We print loss, accuracy, and a detailed classification report including precision, recall, and F1 scores. The confusion matrix shows the number of true positives, false positives, true negatives, and false negatives.\n",
        "\n"
      ]
    },
    {
      "cell_type": "code",
      "execution_count": 12,
      "metadata": {
        "id": "iwW1h2nNvjRJ",
        "colab": {
          "base_uri": "https://localhost:8080/",
          "height": 599
        },
        "outputId": "e00ba735-67c2-4fa5-ec02-f11e04d4cd2a"
      },
      "outputs": [
        {
          "output_type": "stream",
          "name": "stderr",
          "text": [
            "/usr/local/lib/python3.11/dist-packages/sklearn/metrics/_ranking.py:1188: UndefinedMetricWarning: No positive samples in y_true, true positive value should be meaningless\n",
            "  warnings.warn(\n"
          ]
        },
        {
          "output_type": "display_data",
          "data": {
            "text/plain": [
              "<Figure size 800x600 with 1 Axes>"
            ],
            "image/png": "[encoded data removed]"
          },
          "metadata": {}
        }
      ],
      "source": [
        "# Visualizing the ROC Curve\n",
        "# ===============================\n",
        "fpr, tpr, thresholds = roc_curve(y_test, y_pred_prob)\n",
        "roc_auc = auc(fpr, tpr)\n",
        "\n",
        "plt.figure(figsize=(8,6))\n",
        "plt.plot(fpr, tpr, label=f'ROC Curve (AUC = {roc_auc:.4f})', lw=2)\n",
        "plt.plot([0, 1], [0, 1], 'k--', lw=2)\n",
        "plt.xlabel('False Positive Rate')\n",
        "plt.ylabel('True Positive Rate')\n",
        "plt.title('Receiver Operating Characteristic (ROC)')\n",
        "plt.legend(loc='lower right')\n",
        "plt.show()"
      ]
    },
    {
      "cell_type": "markdown",
      "metadata": {
        "id": "u9OxvlKpvmUA"
      },
      "source": [
        "This cell plots the ROC curve, which is essential for evaluating classifier performance, especially on imbalanced datasets. The Area Under the Curve (AUC) provides an aggregate measure of performance across all classification thresholds."
      ]
    },
    {
      "cell_type": "code",
      "execution_count": 32,
      "metadata": {
        "id": "LHwn2IJcvoRO",
        "colab": {
          "base_uri": "https://localhost:8080/",
          "height": 498,
          "referenced_widgets": [
            "0febab76c1b549cd85a16ebefa829ed7",
            "b4ce868e99b54dcba7de358d8a4d5653",
            "7286fc8d43834a52a90ed002ab676565",
            "3fc40246401f449f83516a38c1314e50",
            "d246f800ca8140aa81ef7095dff76694",
            "af21298f229b4bdb853d600e50738298",
            "0c5b407f40e04e6293c95563e30c9185",
            "4d0fdcc59f714caca57b10a9b06222ba",
            "6e95603fc4584e609aabcd3125d25df6",
            "af5531d69bd34502b6f8dbf3d8e0bc63",
            "115be4b8be2b428e889f3050166ae5a8"
          ]
        },
        "outputId": "b5379860-36ed-460a-c2d2-4c1ac3cc8b11"
      },
      "outputs": [
        {
          "output_type": "stream",
          "name": "stdout",
          "text": [
            "\u001b[1m4/4\u001b[0m \u001b[32m━━━━━━━━━━━━━━━━━━━━\u001b[0m\u001b[37m\u001b[0m \u001b[1m0s\u001b[0m 17ms/step\n"
          ]
        },
        {
          "output_type": "display_data",
          "data": {
            "text/plain": [
              "  0%|          | 0/1 [00:00<?, ?it/s]"
            ],
            "application/vnd.jupyter.widget-view+json": {
              "version_major": 2,
              "version_minor": 0,
              "model_id": "0febab76c1b549cd85a16ebefa829ed7"
            }
          },
          "metadata": {}
        },
        {
          "output_type": "stream",
          "name": "stdout",
          "text": [
            "\u001b[1m1/1\u001b[0m \u001b[32m━━━━━━━━━━━━━━━━━━━━\u001b[0m\u001b[37m\u001b[0m \u001b[1m0s\u001b[0m 228ms/step\n",
            "\u001b[1m6582/6582\u001b[0m \u001b[32m━━━━━━━━━━━━━━━━━━━━\u001b[0m\u001b[37m\u001b[0m \u001b[1m12s\u001b[0m 2ms/step\n",
            "Original Kernel SHAP values shape: (1, 29, 1)\n",
            "Squeezed Kernel SHAP values shape: (1, 29)\n"
          ]
        },
        {
          "output_type": "display_data",
          "data": {
            "text/plain": [
              "<Figure size 2000x300 with 1 Axes>"
            ],
            "image/png": "[encoded data removed]"
          },
          "metadata": {}
        }
      ],
      "source": [
        "# Use a single sample for KernelExplainer\n",
        "X_test_sample = X_test[:1]\n",
        "X_test_sample_df = pd.DataFrame(X_test_sample, columns=feature_names)\n",
        "\n",
        "# Create a KernelExplainer using model.predict and the background data\n",
        "explainer_kernel = shap.KernelExplainer(model.predict, background)\n",
        "\n",
        "# Compute SHAP values for the selected sample\n",
        "shap_values_kernel = explainer_kernel.shap_values(X_test_sample)\n",
        "print(\"Original Kernel SHAP values shape:\", np.array(shap_values_kernel).shape)\n",
        "\n",
        "# Squeeze out the extra dimension (expected shape: (1, 29))\n",
        "shap_values_kernel = np.squeeze(shap_values_kernel, axis=2)\n",
        "print(\"Squeezed Kernel SHAP values shape:\", np.array(shap_values_kernel).shape)\n",
        "\n",
        "# Convert the single sample to a Series (1D array) for force_plot\n",
        "single_sample = X_test_sample_df.iloc[0]\n",
        "\n",
        "# Now create a force plot with the adjusted SHAP values and single sample\n",
        "shap.force_plot(\n",
        "    explainer_kernel.expected_value,\n",
        "    shap_values_kernel[0],\n",
        "    single_sample,\n",
        "    matplotlib=True\n",
        ")\n"
      ]
    },
    {
      "cell_type": "markdown",
      "metadata": {
        "id": "3MFc2V4IwgNf"
      },
      "source": [
        "Here, we use SHAP's DeepExplainer with a random subset of training data as a background reference. The force plot helps explain one individual prediction, while the summary plot gives a broader view of feature importance across multiple predictions."
      ]
    },
    {
      "cell_type": "code",
      "execution_count": 22,
      "metadata": {
        "id": "Bmq_UdnBwiQD",
        "colab": {
          "base_uri": "https://localhost:8080/"
        },
        "outputId": "585e9878-f011-400c-936a-21a009a61747"
      },
      "outputs": [
        {
          "output_type": "stream",
          "name": "stdout",
          "text": [
            "Starting simulated real-time fraud monitoring...\n",
            "\n",
            "\u001b[1m1/1\u001b[0m \u001b[32m━━━━━━━━━━━━━━━━━━━━\u001b[0m\u001b[37m\u001b[0m \u001b[1m0s\u001b[0m 58ms/step\n",
            "Iteration 1:\n",
            "  Transaction 1: Fraud Probability = 0.3821 -> Legitimate\n",
            "  Transaction 2: Fraud Probability = 0.3159 -> Legitimate\n",
            "  Transaction 3: Fraud Probability = 0.2655 -> Legitimate\n",
            "  Transaction 4: Fraud Probability = 0.3025 -> Legitimate\n",
            "  Transaction 5: Fraud Probability = 0.1840 -> Legitimate\n",
            "\n",
            "---\n",
            "\n"
          ]
        },
        {
          "output_type": "stream",
          "name": "stderr",
          "text": [
            "/usr/local/lib/python3.11/dist-packages/sklearn/utils/validation.py:2739: UserWarning: X does not have valid feature names, but StandardScaler was fitted with feature names\n",
            "  warnings.warn(\n"
          ]
        },
        {
          "output_type": "stream",
          "name": "stdout",
          "text": [
            "\u001b[1m1/1\u001b[0m \u001b[32m━━━━━━━━━━━━━━━━━━━━\u001b[0m\u001b[37m\u001b[0m \u001b[1m0s\u001b[0m 65ms/step\n"
          ]
        },
        {
          "output_type": "stream",
          "name": "stderr",
          "text": [
            "/usr/local/lib/python3.11/dist-packages/sklearn/utils/validation.py:2739: UserWarning: X does not have valid feature names, but StandardScaler was fitted with feature names\n",
            "  warnings.warn(\n"
          ]
        },
        {
          "output_type": "stream",
          "name": "stdout",
          "text": [
            "Iteration 2:\n",
            "  Transaction 1: Fraud Probability = 0.2842 -> Legitimate\n",
            "  Transaction 2: Fraud Probability = 0.4128 -> Legitimate\n",
            "  Transaction 3: Fraud Probability = 0.2938 -> Legitimate\n",
            "  Transaction 4: Fraud Probability = 0.1852 -> Legitimate\n",
            "  Transaction 5: Fraud Probability = 0.1646 -> Legitimate\n",
            "\n",
            "---\n",
            "\n",
            "\u001b[1m1/1\u001b[0m \u001b[32m━━━━━━━━━━━━━━━━━━━━\u001b[0m\u001b[37m\u001b[0m \u001b[1m0s\u001b[0m 38ms/step\n"
          ]
        },
        {
          "output_type": "stream",
          "name": "stderr",
          "text": [
            "/usr/local/lib/python3.11/dist-packages/sklearn/utils/validation.py:2739: UserWarning: X does not have valid feature names, but StandardScaler was fitted with feature names\n",
            "  warnings.warn(\n"
          ]
        },
        {
          "output_type": "stream",
          "name": "stdout",
          "text": [
            "Iteration 3:\n",
            "  Transaction 1: Fraud Probability = 0.2765 -> Legitimate\n",
            "  Transaction 2: Fraud Probability = 0.2429 -> Legitimate\n",
            "  Transaction 3: Fraud Probability = 0.2452 -> Legitimate\n",
            "  Transaction 4: Fraud Probability = 0.3440 -> Legitimate\n",
            "  Transaction 5: Fraud Probability = 0.3314 -> Legitimate\n",
            "\n",
            "---\n",
            "\n"
          ]
        }
      ],
      "source": [
        "\n",
        "#Simulated Real-Time Fraud Monitoring\n",
        "# ===============================\n",
        "import time\n",
        "\n",
        "def simulate_real_time_monitoring(model, scaler, sample_data, n_iterations=3):\n",
        "    \"\"\"\n",
        "    Simulate real-time fraud monitoring by predicting fraud probabilities for new transactions.\n",
        "    This function simulates streaming data by randomly selecting a few samples at each iteration.\n",
        "    \"\"\"\n",
        "    print(\"Starting simulated real-time fraud monitoring...\\n\")\n",
        "    for i in range(n_iterations):\n",
        "        # Simulate receiving 5 new transactions\n",
        "        new_samples = sample_data[np.random.choice(sample_data.shape[0], 5, replace=False)]\n",
        "        # Standardize new samples using the same scaler as before\n",
        "        new_samples_scaled = scaler.transform(new_samples)\n",
        "        # Predict fraud probabilities for these transactions\n",
        "        predictions = model.predict(new_samples_scaled)\n",
        "        print(f\"Iteration {i+1}:\")\n",
        "        for j, prob in enumerate(predictions):\n",
        "            label = \"Fraudulent\" if prob > 0.5 else \"Legitimate\"\n",
        "            print(f\"  Transaction {j+1}: Fraud Probability = {prob[0]:.4f} -> {label}\")\n",
        "        print(\"\\n---\\n\")\n",
        "        # Wait 2 seconds to simulate time delay in data streaming\n",
        "        time.sleep(2)\n",
        "\n",
        "# Use the original features (excluding 'Class' and 'Time') as sample data for simulation\n",
        "sample_data = df.drop(['Class', 'Time'], axis=1).values\n",
        "simulate_real_time_monitoring(model, scaler, sample_data, n_iterations=3)\n"
      ]
    },
    {
      "cell_type": "markdown",
      "metadata": {
        "id": "nRa9yzCjwnEd"
      },
      "source": [
        "This function simulates a live environment by randomly sampling transactions and predicting their fraud probabilities. By looping through several iterations, you mimic real-time monitoring where new data continuously arrives."
      ]
    },
    {
      "cell_type": "code",
      "execution_count": 23,
      "metadata": {
        "id": "UvKVRj41wnqC",
        "colab": {
          "base_uri": "https://localhost:8080/"
        },
        "outputId": "b38c4162-873f-411f-8954-2b4f7b7563e0"
      },
      "outputs": [
        {
          "output_type": "stream",
          "name": "stderr",
          "text": [
            "WARNING:absl:You are saving your model as an HDF5 file via `model.save()` or `keras.saving.save_model(model)`. This file format is considered legacy. We recommend using instead the native Keras format, e.g. `model.save('my_model.keras')` or `keras.saving.save_model(model, 'my_model.keras')`. \n"
          ]
        },
        {
          "output_type": "stream",
          "name": "stdout",
          "text": [
            "Model saved as 'fin_guard_fraud_detection_model.h5'\n"
          ]
        }
      ],
      "source": [
        "# ===============================\n",
        "# Model Saving for Deployment\n",
        "# ===============================\n",
        "# Save the trained model to a file for later deployment or further tuning.\n",
        "model.save(\"fin_guard_fraud_detection_model.h5\")\n",
        "print(\"Model saved as 'fin_guard_fraud_detection_model.h5'\")\n"
      ]
    },
    {
      "cell_type": "markdown",
      "metadata": {
        "id": "g34CFeJywr7O"
      },
      "source": [
        "Saving the model allows you to deploy it in production environments or use it in subsequent sessions without retraining."
      ]
    },
    {
      "cell_type": "code",
      "execution_count": 24,
      "metadata": {
        "id": "ZoX3GdBHwsjm",
        "colab": {
          "base_uri": "https://localhost:8080/",
          "height": 1000
        },
        "outputId": "3240bc4c-a9a0-4e58-8075-401d0bdea9aa"
      },
      "outputs": [
        {
          "output_type": "display_data",
          "data": {
            "text/plain": [
              "\u001b[1mModel: \"functional_1\"\u001b[0m\n"
            ],
            "text/html": [
              "<pre style=\"white-space:pre;overflow-x:auto;line-height:normal;font-family:Menlo,'DejaVu Sans Mono',consolas,'Courier New',monospace\"><span style=\"font-weight: bold\">Model: \"functional_1\"</span>\n",
              "</pre>\n"
            ]
          },
          "metadata": {}
        },
        {
          "output_type": "display_data",
          "data": {
            "text/plain": [
              "┏━━━━━━━━━━━━━━━━━━━━━━━━━━━━━━━━━━━━━━┳━━━━━━━━━━━━━━━━━━━━━━━━━━━━━┳━━━━━━━━━━━━━━━━━┓\n",
              "┃\u001b[1m \u001b[0m\u001b[1mLayer (type)                        \u001b[0m\u001b[1m \u001b[0m┃\u001b[1m \u001b[0m\u001b[1mOutput Shape               \u001b[0m\u001b[1m \u001b[0m┃\u001b[1m \u001b[0m\u001b[1m        Param #\u001b[0m\u001b[1m \u001b[0m┃\n",
              "┡━━━━━━━━━━━━━━━━━━━━━━━━━━━━━━━━━━━━━━╇━━━━━━━━━━━━━━━━━━━━━━━━━━━━━╇━━━━━━━━━━━━━━━━━┩\n",
              "│ input_layer_1 (\u001b[38;5;33mInputLayer\u001b[0m)           │ (\u001b[38;5;45mNone\u001b[0m, \u001b[38;5;34m29\u001b[0m)                  │               \u001b[38;5;34m0\u001b[0m │\n",
              "├──────────────────────────────────────┼─────────────────────────────┼─────────────────┤\n",
              "│ dense_4 (\u001b[38;5;33mDense\u001b[0m)                      │ (\u001b[38;5;45mNone\u001b[0m, \u001b[38;5;34m16\u001b[0m)                  │             \u001b[38;5;34m480\u001b[0m │\n",
              "├──────────────────────────────────────┼─────────────────────────────┼─────────────────┤\n",
              "│ dense_5 (\u001b[38;5;33mDense\u001b[0m)                      │ (\u001b[38;5;45mNone\u001b[0m, \u001b[38;5;34m29\u001b[0m)                  │             \u001b[38;5;34m493\u001b[0m │\n",
              "└──────────────────────────────────────┴─────────────────────────────┴─────────────────┘\n"
            ],
            "text/html": [
              "<pre style=\"white-space:pre;overflow-x:auto;line-height:normal;font-family:Menlo,'DejaVu Sans Mono',consolas,'Courier New',monospace\">┏━━━━━━━━━━━━━━━━━━━━━━━━━━━━━━━━━━━━━━┳━━━━━━━━━━━━━━━━━━━━━━━━━━━━━┳━━━━━━━━━━━━━━━━━┓\n",
              "┃<span style=\"font-weight: bold\"> Layer (type)                         </span>┃<span style=\"font-weight: bold\"> Output Shape                </span>┃<span style=\"font-weight: bold\">         Param # </span>┃\n",
              "┡━━━━━━━━━━━━━━━━━━━━━━━━━━━━━━━━━━━━━━╇━━━━━━━━━━━━━━━━━━━━━━━━━━━━━╇━━━━━━━━━━━━━━━━━┩\n",
              "│ input_layer_1 (<span style=\"color: #0087ff; text-decoration-color: #0087ff\">InputLayer</span>)           │ (<span style=\"color: #00d7ff; text-decoration-color: #00d7ff\">None</span>, <span style=\"color: #00af00; text-decoration-color: #00af00\">29</span>)                  │               <span style=\"color: #00af00; text-decoration-color: #00af00\">0</span> │\n",
              "├──────────────────────────────────────┼─────────────────────────────┼─────────────────┤\n",
              "│ dense_4 (<span style=\"color: #0087ff; text-decoration-color: #0087ff\">Dense</span>)                      │ (<span style=\"color: #00d7ff; text-decoration-color: #00d7ff\">None</span>, <span style=\"color: #00af00; text-decoration-color: #00af00\">16</span>)                  │             <span style=\"color: #00af00; text-decoration-color: #00af00\">480</span> │\n",
              "├──────────────────────────────────────┼─────────────────────────────┼─────────────────┤\n",
              "│ dense_5 (<span style=\"color: #0087ff; text-decoration-color: #0087ff\">Dense</span>)                      │ (<span style=\"color: #00d7ff; text-decoration-color: #00d7ff\">None</span>, <span style=\"color: #00af00; text-decoration-color: #00af00\">29</span>)                  │             <span style=\"color: #00af00; text-decoration-color: #00af00\">493</span> │\n",
              "└──────────────────────────────────────┴─────────────────────────────┴─────────────────┘\n",
              "</pre>\n"
            ]
          },
          "metadata": {}
        },
        {
          "output_type": "display_data",
          "data": {
            "text/plain": [
              "\u001b[1m Total params: \u001b[0m\u001b[38;5;34m973\u001b[0m (3.80 KB)\n"
            ],
            "text/html": [
              "<pre style=\"white-space:pre;overflow-x:auto;line-height:normal;font-family:Menlo,'DejaVu Sans Mono',consolas,'Courier New',monospace\"><span style=\"font-weight: bold\"> Total params: </span><span style=\"color: #00af00; text-decoration-color: #00af00\">973</span> (3.80 KB)\n",
              "</pre>\n"
            ]
          },
          "metadata": {}
        },
        {
          "output_type": "display_data",
          "data": {
            "text/plain": [
              "\u001b[1m Trainable params: \u001b[0m\u001b[38;5;34m973\u001b[0m (3.80 KB)\n"
            ],
            "text/html": [
              "<pre style=\"white-space:pre;overflow-x:auto;line-height:normal;font-family:Menlo,'DejaVu Sans Mono',consolas,'Courier New',monospace\"><span style=\"font-weight: bold\"> Trainable params: </span><span style=\"color: #00af00; text-decoration-color: #00af00\">973</span> (3.80 KB)\n",
              "</pre>\n"
            ]
          },
          "metadata": {}
        },
        {
          "output_type": "display_data",
          "data": {
            "text/plain": [
              "\u001b[1m Non-trainable params: \u001b[0m\u001b[38;5;34m0\u001b[0m (0.00 B)\n"
            ],
            "text/html": [
              "<pre style=\"white-space:pre;overflow-x:auto;line-height:normal;font-family:Menlo,'DejaVu Sans Mono',consolas,'Courier New',monospace\"><span style=\"font-weight: bold\"> Non-trainable params: </span><span style=\"color: #00af00; text-decoration-color: #00af00\">0</span> (0.00 B)\n",
              "</pre>\n"
            ]
          },
          "metadata": {}
        },
        {
          "output_type": "stream",
          "name": "stdout",
          "text": [
            "Epoch 1/50\n",
            "1/1 - 1s - 1s/step - loss: 1.2878 - val_loss: 1.3196\n",
            "Epoch 2/50\n",
            "1/1 - 0s - 113ms/step - loss: 1.2853 - val_loss: 1.3171\n",
            "Epoch 3/50\n",
            "1/1 - 0s - 105ms/step - loss: 1.2827 - val_loss: 1.3147\n",
            "Epoch 4/50\n",
            "1/1 - 0s - 113ms/step - loss: 1.2802 - val_loss: 1.3122\n",
            "Epoch 5/50\n",
            "1/1 - 0s - 104ms/step - loss: 1.2777 - val_loss: 1.3098\n",
            "Epoch 6/50\n",
            "1/1 - 0s - 109ms/step - loss: 1.2752 - val_loss: 1.3074\n",
            "Epoch 7/50\n",
            "1/1 - 0s - 111ms/step - loss: 1.2726 - val_loss: 1.3049\n",
            "Epoch 8/50\n",
            "1/1 - 0s - 109ms/step - loss: 1.2701 - val_loss: 1.3025\n",
            "Epoch 9/50\n",
            "1/1 - 0s - 102ms/step - loss: 1.2676 - val_loss: 1.3001\n",
            "Epoch 10/50\n",
            "1/1 - 0s - 153ms/step - loss: 1.2651 - val_loss: 1.2978\n",
            "Epoch 11/50\n",
            "1/1 - 0s - 170ms/step - loss: 1.2625 - val_loss: 1.2954\n",
            "Epoch 12/50\n",
            "1/1 - 0s - 259ms/step - loss: 1.2600 - val_loss: 1.2930\n",
            "Epoch 13/50\n",
            "1/1 - 0s - 210ms/step - loss: 1.2576 - val_loss: 1.2907\n",
            "Epoch 14/50\n",
            "1/1 - 0s - 165ms/step - loss: 1.2551 - val_loss: 1.2883\n",
            "Epoch 15/50\n",
            "1/1 - 0s - 319ms/step - loss: 1.2527 - val_loss: 1.2860\n",
            "Epoch 16/50\n",
            "1/1 - 0s - 322ms/step - loss: 1.2503 - val_loss: 1.2837\n",
            "Epoch 17/50\n",
            "1/1 - 0s - 147ms/step - loss: 1.2479 - val_loss: 1.2813\n",
            "Epoch 18/50\n",
            "1/1 - 0s - 152ms/step - loss: 1.2456 - val_loss: 1.2790\n",
            "Epoch 19/50\n",
            "1/1 - 0s - 338ms/step - loss: 1.2433 - val_loss: 1.2767\n",
            "Epoch 20/50\n",
            "1/1 - 0s - 156ms/step - loss: 1.2410 - val_loss: 1.2744\n",
            "Epoch 21/50\n",
            "1/1 - 0s - 332ms/step - loss: 1.2388 - val_loss: 1.2721\n",
            "Epoch 22/50\n",
            "1/1 - 0s - 151ms/step - loss: 1.2365 - val_loss: 1.2698\n",
            "Epoch 23/50\n",
            "1/1 - 0s - 106ms/step - loss: 1.2343 - val_loss: 1.2675\n",
            "Epoch 24/50\n",
            "1/1 - 0s - 148ms/step - loss: 1.2321 - val_loss: 1.2653\n",
            "Epoch 25/50\n",
            "1/1 - 0s - 147ms/step - loss: 1.2299 - val_loss: 1.2630\n",
            "Epoch 26/50\n",
            "1/1 - 0s - 164ms/step - loss: 1.2278 - val_loss: 1.2607\n",
            "Epoch 27/50\n",
            "1/1 - 0s - 119ms/step - loss: 1.2256 - val_loss: 1.2585\n",
            "Epoch 28/50\n",
            "1/1 - 0s - 108ms/step - loss: 1.2234 - val_loss: 1.2562\n",
            "Epoch 29/50\n",
            "1/1 - 0s - 108ms/step - loss: 1.2213 - val_loss: 1.2539\n",
            "Epoch 30/50\n",
            "1/1 - 0s - 104ms/step - loss: 1.2192 - val_loss: 1.2517\n",
            "Epoch 31/50\n",
            "1/1 - 0s - 179ms/step - loss: 1.2170 - val_loss: 1.2494\n",
            "Epoch 32/50\n",
            "1/1 - 0s - 113ms/step - loss: 1.2149 - val_loss: 1.2472\n",
            "Epoch 33/50\n",
            "1/1 - 0s - 104ms/step - loss: 1.2128 - val_loss: 1.2449\n",
            "Epoch 34/50\n",
            "1/1 - 0s - 141ms/step - loss: 1.2107 - val_loss: 1.2427\n",
            "Epoch 35/50\n",
            "1/1 - 0s - 154ms/step - loss: 1.2086 - val_loss: 1.2405\n",
            "Epoch 36/50\n",
            "1/1 - 0s - 102ms/step - loss: 1.2065 - val_loss: 1.2382\n",
            "Epoch 37/50\n",
            "1/1 - 0s - 141ms/step - loss: 1.2044 - val_loss: 1.2360\n",
            "Epoch 38/50\n",
            "1/1 - 0s - 143ms/step - loss: 1.2024 - val_loss: 1.2338\n",
            "Epoch 39/50\n",
            "1/1 - 0s - 117ms/step - loss: 1.2003 - val_loss: 1.2315\n",
            "Epoch 40/50\n",
            "1/1 - 0s - 131ms/step - loss: 1.1982 - val_loss: 1.2293\n",
            "Epoch 41/50\n",
            "1/1 - 0s - 110ms/step - loss: 1.1962 - val_loss: 1.2271\n",
            "Epoch 42/50\n",
            "1/1 - 0s - 140ms/step - loss: 1.1941 - val_loss: 1.2249\n",
            "Epoch 43/50\n",
            "1/1 - 0s - 116ms/step - loss: 1.1921 - val_loss: 1.2228\n",
            "Epoch 44/50\n",
            "1/1 - 0s - 135ms/step - loss: 1.1900 - val_loss: 1.2206\n",
            "Epoch 45/50\n",
            "1/1 - 0s - 139ms/step - loss: 1.1880 - val_loss: 1.2184\n",
            "Epoch 46/50\n",
            "1/1 - 0s - 102ms/step - loss: 1.1860 - val_loss: 1.2162\n",
            "Epoch 47/50\n",
            "1/1 - 0s - 142ms/step - loss: 1.1839 - val_loss: 1.2141\n",
            "Epoch 48/50\n",
            "1/1 - 0s - 106ms/step - loss: 1.1819 - val_loss: 1.2119\n",
            "Epoch 49/50\n",
            "1/1 - 0s - 102ms/step - loss: 1.1799 - val_loss: 1.2098\n",
            "Epoch 50/50\n",
            "1/1 - 0s - 107ms/step - loss: 1.1779 - val_loss: 1.2077\n",
            "\u001b[1m7/7\u001b[0m \u001b[32m━━━━━━━━━━━━━━━━━━━━\u001b[0m\u001b[37m\u001b[0m \u001b[1m0s\u001b[0m 10ms/step\n",
            "Autoencoder anomaly detection threshold (95th percentile): 2.20625309603655\n",
            "Classification Report for Autoencoder-Based Anomaly Detection:\n",
            "              precision    recall  f1-score   support\n",
            "\n",
            "           0       1.00      0.95      0.97       200\n",
            "           1       0.00      0.00      0.00         0\n",
            "\n",
            "    accuracy                           0.95       200\n",
            "   macro avg       0.50      0.47      0.49       200\n",
            "weighted avg       1.00      0.95      0.97       200\n",
            "\n"
          ]
        },
        {
          "output_type": "stream",
          "name": "stderr",
          "text": [
            "/usr/local/lib/python3.11/dist-packages/sklearn/metrics/_classification.py:1565: UndefinedMetricWarning: Recall is ill-defined and being set to 0.0 in labels with no true samples. Use `zero_division` parameter to control this behavior.\n",
            "  _warn_prf(average, modifier, f\"{metric.capitalize()} is\", len(result))\n",
            "/usr/local/lib/python3.11/dist-packages/sklearn/metrics/_classification.py:1565: UndefinedMetricWarning: Recall is ill-defined and being set to 0.0 in labels with no true samples. Use `zero_division` parameter to control this behavior.\n",
            "  _warn_prf(average, modifier, f\"{metric.capitalize()} is\", len(result))\n",
            "/usr/local/lib/python3.11/dist-packages/sklearn/metrics/_classification.py:1565: UndefinedMetricWarning: Recall is ill-defined and being set to 0.0 in labels with no true samples. Use `zero_division` parameter to control this behavior.\n",
            "  _warn_prf(average, modifier, f\"{metric.capitalize()} is\", len(result))\n"
          ]
        }
      ],
      "source": [
        "# ===============================\n",
        "# Autoencoder-Based Anomaly Detection\n",
        "# ===============================\n",
        "from tensorflow.keras.models import Model\n",
        "from tensorflow.keras.layers import Input, Dense\n",
        "\n",
        "# Define dimensions for the autoencoder\n",
        "input_dim = X_train.shape[1]\n",
        "encoding_dim = 16  # You can experiment with different sizes\n",
        "\n",
        "# Build the autoencoder model\n",
        "input_layer = Input(shape=(input_dim,))\n",
        "encoder = Dense(encoding_dim, activation='relu')(input_layer)\n",
        "decoder = Dense(input_dim, activation='sigmoid')(encoder)\n",
        "\n",
        "autoencoder = Model(inputs=input_layer, outputs=decoder)\n",
        "autoencoder.compile(optimizer='adam', loss='mse')\n",
        "autoencoder.summary()\n",
        "\n",
        "# Train the autoencoder on the training data\n",
        "history_auto = autoencoder.fit(\n",
        "    X_train, X_train,\n",
        "    epochs=50,\n",
        "    batch_size=2048,\n",
        "    validation_split=0.2,\n",
        "    callbacks=[early_stop],\n",
        "    verbose=2\n",
        ")\n",
        "\n",
        "# Compute reconstruction error on the test set\n",
        "X_test_pred = autoencoder.predict(X_test)\n",
        "mse = np.mean(np.power(X_test - X_test_pred, 2), axis=1)\n",
        "\n",
        "# Define an anomaly threshold (e.g., 95th percentile)\n",
        "threshold = np.percentile(mse, 95)\n",
        "print(\"Autoencoder anomaly detection threshold (95th percentile):\", threshold)\n",
        "\n",
        "# Flag anomalies based on the reconstruction error\n",
        "y_pred_auto = (mse > threshold).astype(int)\n",
        "\n",
        "# Evaluate autoencoder performance using classification metrics\n",
        "print(\"Classification Report for Autoencoder-Based Anomaly Detection:\")\n",
        "print(classification_report(y_test, y_pred_auto))\n"
      ]
    },
    {
      "cell_type": "markdown",
      "metadata": {
        "id": "Q1dWr9kMxCxM"
      },
      "source": [
        "This block trains an autoencoder using only the training data. After training, it computes the reconstruction error for each test sample. A threshold (set at the 95th percentile of errors) is used to flag anomalies. The classification report shows how well this unsupervised approach detects fraud compared to ground truth labels."
      ]
    },
    {
      "cell_type": "code",
      "execution_count": 25,
      "metadata": {
        "id": "dW9Y2_E0xE6P",
        "colab": {
          "base_uri": "https://localhost:8080/"
        },
        "outputId": "85c0b743-512d-46e3-9b1b-bc5b5a349764"
      },
      "outputs": [
        {
          "output_type": "stream",
          "name": "stdout",
          "text": [
            "\u001b[1m7/7\u001b[0m \u001b[32m━━━━━━━━━━━━━━━━━━━━\u001b[0m\u001b[37m\u001b[0m \u001b[1m0s\u001b[0m 5ms/step \n",
            "Ensemble Model Classification Report:\n",
            "              precision    recall  f1-score   support\n",
            "\n",
            "           0       1.00      0.99      1.00       200\n",
            "           1       0.00      0.00      0.00         0\n",
            "\n",
            "    accuracy                           0.99       200\n",
            "   macro avg       0.50      0.50      0.50       200\n",
            "weighted avg       1.00      0.99      1.00       200\n",
            "\n"
          ]
        },
        {
          "output_type": "stream",
          "name": "stderr",
          "text": [
            "/usr/local/lib/python3.11/dist-packages/sklearn/metrics/_classification.py:1565: UndefinedMetricWarning: Recall is ill-defined and being set to 0.0 in labels with no true samples. Use `zero_division` parameter to control this behavior.\n",
            "  _warn_prf(average, modifier, f\"{metric.capitalize()} is\", len(result))\n",
            "/usr/local/lib/python3.11/dist-packages/sklearn/metrics/_classification.py:1565: UndefinedMetricWarning: Recall is ill-defined and being set to 0.0 in labels with no true samples. Use `zero_division` parameter to control this behavior.\n",
            "  _warn_prf(average, modifier, f\"{metric.capitalize()} is\", len(result))\n",
            "/usr/local/lib/python3.11/dist-packages/sklearn/metrics/_classification.py:1565: UndefinedMetricWarning: Recall is ill-defined and being set to 0.0 in labels with no true samples. Use `zero_division` parameter to control this behavior.\n",
            "  _warn_prf(average, modifier, f\"{metric.capitalize()} is\", len(result))\n"
          ]
        }
      ],
      "source": [
        "# ===============================\n",
        "# Ensemble Model\n",
        "# ===============================\n",
        "# Supervised model predictions (fraud probability)\n",
        "y_pred_prob_supervised = model.predict(X_test)\n",
        "\n",
        "# Normalize the autoencoder's reconstruction error to a [0, 1] range\n",
        "mse_min, mse_max = mse.min(), mse.max()\n",
        "mse_norm = (mse - mse_min) / (mse_max - mse_min)\n",
        "\n",
        "# Ensemble: Compute a weighted average of the supervised prediction and normalized anomaly score\n",
        "ensemble_score = 0.5 * y_pred_prob_supervised.flatten() + 0.5 * mse_norm\n",
        "y_pred_ensemble = (ensemble_score > 0.5).astype(int)\n",
        "\n",
        "print(\"Ensemble Model Classification Report:\")\n",
        "print(classification_report(y_test, y_pred_ensemble))\n"
      ]
    },
    {
      "cell_type": "markdown",
      "metadata": {
        "id": "gobI24V9xG3-"
      },
      "source": [
        "This ensemble approach computes a score that equally weighs the supervised model’s prediction and the autoencoder’s anomaly score. Transactions with a combined score above 0.5 are flagged as fraudulent. The ensemble may capture complementary information, potentially boosting overall detection performance."
      ]
    },
    {
      "cell_type": "code",
      "execution_count": 26,
      "metadata": {
        "id": "weh4WGdkxI2u",
        "colab": {
          "base_uri": "https://localhost:8080/"
        },
        "outputId": "b9f4dd12-fdcf-4ebf-bbe5-b48d6c5a6683"
      },
      "outputs": [
        {
          "output_type": "stream",
          "name": "stdout",
          "text": [
            "kafka-python package not installed. Please install it using '!pip install kafka-python'.\n",
            "Simulated Kafka streaming code is provided as pseudo-code for production integration.\n"
          ]
        }
      ],
      "source": [
        "# ===============================\n",
        "# Simulated Real-Time Streaming with Apache Kafka\n",
        "# ===============================\n",
        "try:\n",
        "    from kafka import KafkaConsumer\n",
        "    import json\n",
        "except ImportError:\n",
        "    print(\"kafka-python package not installed. Please install it using '!pip install kafka-python'.\")\n",
        "\n",
        "def run_kafka_consumer():\n",
        "    \"\"\"\n",
        "    Run a Kafka consumer that listens for transaction data, preprocesses the input,\n",
        "    and predicts fraud using the trained model.\n",
        "    Note: This code requires a running Kafka broker and the 'transactions_topic' to be set up.\n",
        "    \"\"\"\n",
        "    try:\n",
        "        # Initialize a Kafka consumer to listen to the 'transactions_topic'\n",
        "        consumer = KafkaConsumer(\n",
        "            'transactions_topic',\n",
        "            bootstrap_servers=['localhost:9092'],\n",
        "            auto_offset_reset='earliest',\n",
        "            enable_auto_commit=True,\n",
        "            group_id='fraud_detection_group',\n",
        "            value_deserializer=lambda x: json.loads(x.decode('utf-8'))\n",
        "        )\n",
        "        print(\"Kafka consumer started, listening to 'transactions_topic'...\")\n",
        "\n",
        "        # Continuously listen for new messages from Kafka\n",
        "        for message in consumer:\n",
        "            # Retrieve transaction features from the message payload\n",
        "            transaction_data = message.value.get('transaction_features')\n",
        "            if transaction_data is None:\n",
        "                print(\"Received a message without 'transaction_features'. Skipping...\")\n",
        "                continue\n",
        "\n",
        "            # Convert the received transaction data into the proper format\n",
        "            new_transaction = np.array(transaction_data).reshape(1, -1)\n",
        "\n",
        "            # Preprocess the new transaction using the previously fitted scaler\n",
        "            new_transaction_scaled = scaler.transform(new_transaction)\n",
        "\n",
        "            # Predict fraud probability using the trained model\n",
        "            prediction = model.predict(new_transaction_scaled)\n",
        "            fraud_prob = prediction[0][0]\n",
        "\n",
        "            # Decide if the transaction is fraudulent based on a threshold of 0.5\n",
        "            if fraud_prob > 0.5:\n",
        "                print(f\"Alert: Potential Fraud Detected! (Probability: {fraud_prob:.4f})\")\n",
        "            else:\n",
        "                print(f\"Transaction is legitimate. (Probability: {fraud_prob:.4f})\")\n",
        "\n",
        "    except Exception as e:\n",
        "        print(\"Error in Kafka consumer:\", e)\n",
        "\n",
        "# Uncomment the following line to run the Kafka consumer in your production environment.\n",
        "# run_kafka_consumer()\n",
        "\n",
        "print(\"Simulated Kafka streaming code is provided as pseudo-code for production integration.\")\n"
      ]
    }
  ],
  "metadata": {
    "colab": {
      "provenance": [],
      "authorship_tag": "ABX9TyPGk24sK2OoDAqzyi6uigaX",
      "include_colab_link": true
    },
    "kernelspec": {
      "display_name": "Python 3",
      "name": "python3"
    },
    "language_info": {
      "name": "python"
    },
    "widgets": {
      "application/vnd.jupyter.widget-state+json": {
        "0febab76c1b549cd85a16ebefa829ed7": {
          "model_module": "@jupyter-widgets/controls",
          "model_name": "HBoxModel",
          "model_module_version": "1.5.0",
          "state": {
            "_dom_classes": [],
            "_model_module": "@jupyter-widgets/controls",
            "_model_module_version": "1.5.0",
            "_model_name": "HBoxModel",
            "_view_count": null,
            "_view_module": "@jupyter-widgets/controls",
            "_view_module_version": "1.5.0",
            "_view_name": "HBoxView",
            "box_style": "",
            "children": [
              "IPY_MODEL_b4ce868e99b54dcba7de358d8a4d5653",
              "IPY_MODEL_7286fc8d43834a52a90ed002ab676565",
              "IPY_MODEL_3fc40246401f449f83516a38c1314e50"
            ],
            "layout": "IPY_MODEL_d246f800ca8140aa81ef7095dff76694"
          }
        },
        "b4ce868e99b54dcba7de358d8a4d5653": {
          "model_module": "@jupyter-widgets/controls",
          "model_name": "HTMLModel",
          "model_module_version": "1.5.0",
          "state": {
            "_dom_classes": [],
            "_model_module": "@jupyter-widgets/controls",
            "_model_module_version": "1.5.0",
            "_model_name": "HTMLModel",
            "_view_count": null,
            "_view_module": "@jupyter-widgets/controls",
            "_view_module_version": "1.5.0",
            "_view_name": "HTMLView",
            "description": "",
            "description_tooltip": null,
            "layout": "IPY_MODEL_af21298f229b4bdb853d600e50738298",
            "placeholder": "​",
            "style": "IPY_MODEL_0c5b407f40e04e6293c95563e30c9185",
            "value": "100%"
          }
        },
        "7286fc8d43834a52a90ed002ab676565": {
          "model_module": "@jupyter-widgets/controls",
          "model_name": "FloatProgressModel",
          "model_module_version": "1.5.0",
          "state": {
            "_dom_classes": [],
            "_model_module": "@jupyter-widgets/controls",
            "_model_module_version": "1.5.0",
            "_model_name": "FloatProgressModel",
            "_view_count": null,
            "_view_module": "@jupyter-widgets/controls",
            "_view_module_version": "1.5.0",
            "_view_name": "ProgressView",
            "bar_style": "success",
            "description": "",
            "description_tooltip": null,
            "layout": "IPY_MODEL_4d0fdcc59f714caca57b10a9b06222ba",
            "max": 1,
            "min": 0,
            "orientation": "horizontal",
            "style": "IPY_MODEL_6e95603fc4584e609aabcd3125d25df6",
            "value": 1
          }
        },
        "3fc40246401f449f83516a38c1314e50": {
          "model_module": "@jupyter-widgets/controls",
          "model_name": "HTMLModel",
          "model_module_version": "1.5.0",
          "state": {
            "_dom_classes": [],
            "_model_module": "@jupyter-widgets/controls",
            "_model_module_version": "1.5.0",
            "_model_name": "HTMLModel",
            "_view_count": null,
            "_view_module": "@jupyter-widgets/controls",
            "_view_module_version": "1.5.0",
            "_view_name": "HTMLView",
            "description": "",
            "description_tooltip": null,
            "layout": "IPY_MODEL_af5531d69bd34502b6f8dbf3d8e0bc63",
            "placeholder": "​",
            "style": "IPY_MODEL_115be4b8be2b428e889f3050166ae5a8",
            "value": " 1/1 [00:21&lt;00:00, 21.97s/it]"
          }
        },
        "d246f800ca8140aa81ef7095dff76694": {
          "model_module": "@jupyter-widgets/base",
          "model_name": "LayoutModel",
          "model_module_version": "1.2.0",
          "state": {
            "_model_module": "@jupyter-widgets/base",
            "_model_module_version": "1.2.0",
            "_model_name": "LayoutModel",
            "_view_count": null,
            "_view_module": "@jupyter-widgets/base",
            "_view_module_version": "1.2.0",
            "_view_name": "LayoutView",
            "align_content": null,
            "align_items": null,
            "align_self": null,
            "border": null,
            "bottom": null,
            "display": null,
            "flex": null,
            "flex_flow": null,
            "grid_area": null,
            "grid_auto_columns": null,
            "grid_auto_flow": null,
            "grid_auto_rows": null,
            "grid_column": null,
            "grid_gap": null,
            "grid_row": null,
            "grid_template_areas": null,
            "grid_template_columns": null,
            "grid_template_rows": null,
            "height": null,
            "justify_content": null,
            "justify_items": null,
            "left": null,
            "margin": null,
            "max_height": null,
            "max_width": null,
            "min_height": null,
            "min_width": null,
            "object_fit": null,
            "object_position": null,
            "order": null,
            "overflow": null,
            "overflow_x": null,
            "overflow_y": null,
            "padding": null,
            "right": null,
            "top": null,
            "visibility": null,
            "width": null
          }
        },
        "af21298f229b4bdb853d600e50738298": {
          "model_module": "@jupyter-widgets/base",
          "model_name": "LayoutModel",
          "model_module_version": "1.2.0",
          "state": {
            "_model_module": "@jupyter-widgets/base",
            "_model_module_version": "1.2.0",
            "_model_name": "LayoutModel",
            "_view_count": null,
            "_view_module": "@jupyter-widgets/base",
            "_view_module_version": "1.2.0",
            "_view_name": "LayoutView",
            "align_content": null,
            "align_items": null,
            "align_self": null,
            "border": null,
            "bottom": null,
            "display": null,
            "flex": null,
            "flex_flow": null,
            "grid_area": null,
            "grid_auto_columns": null,
            "grid_auto_flow": null,
            "grid_auto_rows": null,
            "grid_column": null,
            "grid_gap": null,
            "grid_row": null,
            "grid_template_areas": null,
            "grid_template_columns": null,
            "grid_template_rows": null,
            "height": null,
            "justify_content": null,
            "justify_items": null,
            "left": null,
            "margin": null,
            "max_height": null,
            "max_width": null,
            "min_height": null,
            "min_width": null,
            "object_fit": null,
            "object_position": null,
            "order": null,
            "overflow": null,
            "overflow_x": null,
            "overflow_y": null,
            "padding": null,
            "right": null,
            "top": null,
            "visibility": null,
            "width": null
          }
        },
        "0c5b407f40e04e6293c95563e30c9185": {
          "model_module": "@jupyter-widgets/controls",
          "model_name": "DescriptionStyleModel",
          "model_module_version": "1.5.0",
          "state": {
            "_model_module": "@jupyter-widgets/controls",
            "_model_module_version": "1.5.0",
            "_model_name": "DescriptionStyleModel",
            "_view_count": null,
            "_view_module": "@jupyter-widgets/base",
            "_view_module_version": "1.2.0",
            "_view_name": "StyleView",
            "description_width": ""
          }
        },
        "4d0fdcc59f714caca57b10a9b06222ba": {
          "model_module": "@jupyter-widgets/base",
          "model_name": "LayoutModel",
          "model_module_version": "1.2.0",
          "state": {
            "_model_module": "@jupyter-widgets/base",
            "_model_module_version": "1.2.0",
            "_model_name": "LayoutModel",
            "_view_count": null,
            "_view_module": "@jupyter-widgets/base",
            "_view_module_version": "1.2.0",
            "_view_name": "LayoutView",
            "align_content": null,
            "align_items": null,
            "align_self": null,
            "border": null,
            "bottom": null,
            "display": null,
            "flex": null,
            "flex_flow": null,
            "grid_area": null,
            "grid_auto_columns": null,
            "grid_auto_flow": null,
            "grid_auto_rows": null,
            "grid_column": null,
            "grid_gap": null,
            "grid_row": null,
            "grid_template_areas": null,
            "grid_template_columns": null,
            "grid_template_rows": null,
            "height": null,
            "justify_content": null,
            "justify_items": null,
            "left": null,
            "margin": null,
            "max_height": null,
            "max_width": null,
            "min_height": null,
            "min_width": null,
            "object_fit": null,
            "object_position": null,
            "order": null,
            "overflow": null,
            "overflow_x": null,
            "overflow_y": null,
            "padding": null,
            "right": null,
            "top": null,
            "visibility": null,
            "width": null
          }
        },
        "6e95603fc4584e609aabcd3125d25df6": {
          "model_module": "@jupyter-widgets/controls",
          "model_name": "ProgressStyleModel",
          "model_module_version": "1.5.0",
          "state": {
            "_model_module": "@jupyter-widgets/controls",
            "_model_module_version": "1.5.0",
            "_model_name": "ProgressStyleModel",
            "_view_count": null,
            "_view_module": "@jupyter-widgets/base",
            "_view_module_version": "1.2.0",
            "_view_name": "StyleView",
            "bar_color": null,
            "description_width": ""
          }
        },
        "af5531d69bd34502b6f8dbf3d8e0bc63": {
          "model_module": "@jupyter-widgets/base",
          "model_name": "LayoutModel",
          "model_module_version": "1.2.0",
          "state": {
            "_model_module": "@jupyter-widgets/base",
            "_model_module_version": "1.2.0",
            "_model_name": "LayoutModel",
            "_view_count": null,
            "_view_module": "@jupyter-widgets/base",
            "_view_module_version": "1.2.0",
            "_view_name": "LayoutView",
            "align_content": null,
            "align_items": null,
            "align_self": null,
            "border": null,
            "bottom": null,
            "display": null,
            "flex": null,
            "flex_flow": null,
            "grid_area": null,
            "grid_auto_columns": null,
            "grid_auto_flow": null,
            "grid_auto_rows": null,
            "grid_column": null,
            "grid_gap": null,
            "grid_row": null,
            "grid_template_areas": null,
            "grid_template_columns": null,
            "grid_template_rows": null,
            "height": null,
            "justify_content": null,
            "justify_items": null,
            "left": null,
            "margin": null,
            "max_height": null,
            "max_width": null,
            "min_height": null,
            "min_width": null,
            "object_fit": null,
            "object_position": null,
            "order": null,
            "overflow": null,
            "overflow_x": null,
            "overflow_y": null,
            "padding": null,
            "right": null,
            "top": null,
            "visibility": null,
            "width": null
          }
        },
        "115be4b8be2b428e889f3050166ae5a8": {
          "model_module": "@jupyter-widgets/controls",
          "model_name": "DescriptionStyleModel",
          "model_module_version": "1.5.0",
          "state": {
            "_model_module": "@jupyter-widgets/controls",
            "_model_module_version": "1.5.0",
            "_model_name": "DescriptionStyleModel",
            "_view_count": null,
            "_view_module": "@jupyter-widgets/base",
            "_view_module_version": "1.2.0",
            "_view_name": "StyleView",
            "description_width": ""
          }
        }
      }
    }
  },
  "nbformat": 4,
  "nbformat_minor": 0
}